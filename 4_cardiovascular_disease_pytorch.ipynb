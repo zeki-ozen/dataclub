{
  "nbformat": 4,
  "nbformat_minor": 0,
  "metadata": {
    "colab": {
      "name": "4_cardiovascular_disease_pytorch.ipynb",
      "provenance": [],
      "collapsed_sections": [],
      "authorship_tag": "ABX9TyPlp/rlNp31VPRmnLPiVgso",
      "include_colab_link": true
    },
    "kernelspec": {
      "name": "python3",
      "display_name": "Python 3"
    },
    "language_info": {
      "name": "python"
    }
  },
  "cells": [
    {
      "cell_type": "markdown",
      "metadata": {
        "id": "view-in-github",
        "colab_type": "text"
      },
      "source": [
        "<a href=\"https://colab.research.google.com/github/zekzen/dataclub/blob/main/4_cardiovascular_disease_pytorch.ipynb\" target=\"_parent\"><img src=\"https://colab.research.google.com/assets/colab-badge.svg\" alt=\"Open In Colab\"/></a>"
      ]
    },
    {
      "cell_type": "code",
      "metadata": {
        "id": "4g21KuwIBcOn"
      },
      "source": [
        "# -*- coding: utf-8 -*-\n",
        "\"\"\"\n",
        "İU Data Klubu - Yapay Sinir Aglari Sunumu\n",
        "07.04.2021\n",
        "Author: Dr. Zeki Ozen\n",
        "\n",
        "Dataset kaynagi: Cardiovascular Disease dataset @ Kaggle\n",
        "Link: https://www.kaggle.com/sulianova/cardiovascular-disease-dataset\n",
        "\n",
        "\n",
        "    PyTorch yeni baslayanlar icin guzel bir anlatim ve uygulama linki:\n",
        "    https://www.freecodecamp.org/news/how-to-build-a-neural-network-with-pytorch/\n",
        "    \n",
        "Faydalanilan PyTorch Kod Kaynaklari:  \n",
        "    https://curiousily.com/posts/build-your-first-neural-network-with-pytorch/\n",
        "    https://www.kaggle.com/kanncaa1/pytorch-tutorial-for-deep-learning-lovers\n",
        "    \n",
        "\n",
        "\n",
        "\"\"\""
      ],
      "execution_count": null,
      "outputs": []
    },
    {
      "cell_type": "code",
      "metadata": {
        "id": "JASsvySQBdQn"
      },
      "source": [
        "# standart kutuphanelerimiz\n",
        "import numpy as np\n",
        "import pandas as pd"
      ],
      "execution_count": 4,
      "outputs": []
    },
    {
      "cell_type": "code",
      "metadata": {
        "colab": {
          "base_uri": "https://localhost:8080/",
          "height": 198
        },
        "id": "EfKwIGdHBqaJ",
        "outputId": "f26b7511-8c14-405e-e551-008fd8bae1f2"
      },
      "source": [
        "# veri seti yukleyelim\n",
        "data = pd.read_csv('https://raw.githubusercontent.com/zekzen/dataclub/main/cardio.csv', sep=';')\n",
        "data.head()"
      ],
      "execution_count": 5,
      "outputs": [
        {
          "output_type": "execute_result",
          "data": {
            "text/html": [
              "<div>\n",
              "<style scoped>\n",
              "    .dataframe tbody tr th:only-of-type {\n",
              "        vertical-align: middle;\n",
              "    }\n",
              "\n",
              "    .dataframe tbody tr th {\n",
              "        vertical-align: top;\n",
              "    }\n",
              "\n",
              "    .dataframe thead th {\n",
              "        text-align: right;\n",
              "    }\n",
              "</style>\n",
              "<table border=\"1\" class=\"dataframe\">\n",
              "  <thead>\n",
              "    <tr style=\"text-align: right;\">\n",
              "      <th></th>\n",
              "      <th>id</th>\n",
              "      <th>age</th>\n",
              "      <th>gender</th>\n",
              "      <th>height</th>\n",
              "      <th>weight</th>\n",
              "      <th>ap_hi</th>\n",
              "      <th>ap_lo</th>\n",
              "      <th>cholesterol</th>\n",
              "      <th>gluc</th>\n",
              "      <th>smoke</th>\n",
              "      <th>alco</th>\n",
              "      <th>active</th>\n",
              "      <th>cardio</th>\n",
              "    </tr>\n",
              "  </thead>\n",
              "  <tbody>\n",
              "    <tr>\n",
              "      <th>0</th>\n",
              "      <td>0</td>\n",
              "      <td>18393</td>\n",
              "      <td>2</td>\n",
              "      <td>168</td>\n",
              "      <td>62.0</td>\n",
              "      <td>110</td>\n",
              "      <td>80</td>\n",
              "      <td>1</td>\n",
              "      <td>1</td>\n",
              "      <td>0</td>\n",
              "      <td>0</td>\n",
              "      <td>1</td>\n",
              "      <td>0</td>\n",
              "    </tr>\n",
              "    <tr>\n",
              "      <th>1</th>\n",
              "      <td>1</td>\n",
              "      <td>20228</td>\n",
              "      <td>1</td>\n",
              "      <td>156</td>\n",
              "      <td>85.0</td>\n",
              "      <td>140</td>\n",
              "      <td>90</td>\n",
              "      <td>3</td>\n",
              "      <td>1</td>\n",
              "      <td>0</td>\n",
              "      <td>0</td>\n",
              "      <td>1</td>\n",
              "      <td>1</td>\n",
              "    </tr>\n",
              "    <tr>\n",
              "      <th>2</th>\n",
              "      <td>2</td>\n",
              "      <td>18857</td>\n",
              "      <td>1</td>\n",
              "      <td>165</td>\n",
              "      <td>64.0</td>\n",
              "      <td>130</td>\n",
              "      <td>70</td>\n",
              "      <td>3</td>\n",
              "      <td>1</td>\n",
              "      <td>0</td>\n",
              "      <td>0</td>\n",
              "      <td>0</td>\n",
              "      <td>1</td>\n",
              "    </tr>\n",
              "    <tr>\n",
              "      <th>3</th>\n",
              "      <td>3</td>\n",
              "      <td>17623</td>\n",
              "      <td>2</td>\n",
              "      <td>169</td>\n",
              "      <td>82.0</td>\n",
              "      <td>150</td>\n",
              "      <td>100</td>\n",
              "      <td>1</td>\n",
              "      <td>1</td>\n",
              "      <td>0</td>\n",
              "      <td>0</td>\n",
              "      <td>1</td>\n",
              "      <td>1</td>\n",
              "    </tr>\n",
              "    <tr>\n",
              "      <th>4</th>\n",
              "      <td>4</td>\n",
              "      <td>17474</td>\n",
              "      <td>1</td>\n",
              "      <td>156</td>\n",
              "      <td>56.0</td>\n",
              "      <td>100</td>\n",
              "      <td>60</td>\n",
              "      <td>1</td>\n",
              "      <td>1</td>\n",
              "      <td>0</td>\n",
              "      <td>0</td>\n",
              "      <td>0</td>\n",
              "      <td>0</td>\n",
              "    </tr>\n",
              "  </tbody>\n",
              "</table>\n",
              "</div>"
            ],
            "text/plain": [
              "   id    age  gender  height  weight  ...  gluc  smoke  alco  active  cardio\n",
              "0   0  18393       2     168    62.0  ...     1      0     0       1       0\n",
              "1   1  20228       1     156    85.0  ...     1      0     0       1       1\n",
              "2   2  18857       1     165    64.0  ...     1      0     0       0       1\n",
              "3   3  17623       2     169    82.0  ...     1      0     0       1       1\n",
              "4   4  17474       1     156    56.0  ...     1      0     0       0       0\n",
              "\n",
              "[5 rows x 13 columns]"
            ]
          },
          "metadata": {
            "tags": []
          },
          "execution_count": 5
        }
      ]
    },
    {
      "cell_type": "code",
      "metadata": {
        "id": "3WoN3RqVBsSO"
      },
      "source": [
        "#id sutunu kaldiriliyor\n",
        "data.drop('id',axis=1,inplace=True)"
      ],
      "execution_count": 6,
      "outputs": []
    },
    {
      "cell_type": "code",
      "metadata": {
        "id": "vq_uoJiFBt3F"
      },
      "source": [
        "#yas sutunu\n",
        "#data.age = np.round(data.age/365.25,decimals=1)\n",
        "\n",
        "#gender sutununda 2 ile temsil edilen veriyi 0 yapiyoruz\n",
        "data.gender = data.gender.replace(2,0)"
      ],
      "execution_count": 8,
      "outputs": []
    },
    {
      "cell_type": "code",
      "metadata": {
        "colab": {
          "base_uri": "https://localhost:8080/"
        },
        "id": "u2ARdsxPBx9D",
        "outputId": "28866d2d-db49-420f-ad0a-8ad5a2ae727b"
      },
      "source": [
        "#cinsiyet degerleri kacar tane var\n",
        "data.gender.value_counts()"
      ],
      "execution_count": 9,
      "outputs": [
        {
          "output_type": "execute_result",
          "data": {
            "text/plain": [
              "1    45530\n",
              "0    24470\n",
              "Name: gender, dtype: int64"
            ]
          },
          "metadata": {
            "tags": []
          },
          "execution_count": 9
        }
      ]
    },
    {
      "cell_type": "code",
      "metadata": {
        "id": "4trJfJWNB28D"
      },
      "source": [
        "# vucut kutle indeksini hesaplayip veri setimize ekliyoruz\n",
        "data['bmi'] = data.weight / (data.height / 100) ** 2\n",
        "# height ve weight kolonlarina artik gere kalmadigi icin kaldiriyoruz\n",
        "data.drop('height', axis=1,inplace=True)\n",
        "data.drop('weight', axis=1,inplace=True)"
      ],
      "execution_count": 10,
      "outputs": []
    },
    {
      "cell_type": "code",
      "metadata": {
        "id": "RHuTpAzvB4os"
      },
      "source": [
        "#bagimli ve bagimsiz degiskenelr ayarlaniyor\n",
        "X = data[data.columns.difference(['cardio'])]\n",
        "y = pd.DataFrame(data['cardio'])"
      ],
      "execution_count": 11,
      "outputs": []
    },
    {
      "cell_type": "code",
      "metadata": {
        "colab": {
          "base_uri": "https://localhost:8080/"
        },
        "id": "15-xfyCyB6El",
        "outputId": "78de1ece-19cc-433a-f8ca-9f867e39d274"
      },
      "source": [
        "# Egitim ve test veri setlerini 80-20 oraninda ayarliyoruz\n",
        "from sklearn.model_selection import train_test_split\n",
        "X_train, X_test, y_train, y_test = train_test_split(X, y, test_size=0.2, random_state=42)\n",
        "\n",
        "print(X_train.info())\n",
        "print(y_train.info())"
      ],
      "execution_count": 12,
      "outputs": [
        {
          "output_type": "stream",
          "text": [
            "<class 'pandas.core.frame.DataFrame'>\n",
            "Int64Index: 56000 entries, 47339 to 15795\n",
            "Data columns (total 10 columns):\n",
            " #   Column       Non-Null Count  Dtype  \n",
            "---  ------       --------------  -----  \n",
            " 0   active       56000 non-null  int64  \n",
            " 1   age          56000 non-null  int64  \n",
            " 2   alco         56000 non-null  int64  \n",
            " 3   ap_hi        56000 non-null  int64  \n",
            " 4   ap_lo        56000 non-null  int64  \n",
            " 5   bmi          56000 non-null  float64\n",
            " 6   cholesterol  56000 non-null  int64  \n",
            " 7   gender       56000 non-null  int64  \n",
            " 8   gluc         56000 non-null  int64  \n",
            " 9   smoke        56000 non-null  int64  \n",
            "dtypes: float64(1), int64(9)\n",
            "memory usage: 4.7 MB\n",
            "None\n",
            "<class 'pandas.core.frame.DataFrame'>\n",
            "Int64Index: 56000 entries, 47339 to 15795\n",
            "Data columns (total 1 columns):\n",
            " #   Column  Non-Null Count  Dtype\n",
            "---  ------  --------------  -----\n",
            " 0   cardio  56000 non-null  int64\n",
            "dtypes: int64(1)\n",
            "memory usage: 875.0 KB\n",
            "None\n"
          ],
          "name": "stdout"
        }
      ]
    },
    {
      "cell_type": "code",
      "metadata": {
        "colab": {
          "base_uri": "https://localhost:8080/"
        },
        "id": "_lz7TDP6B8sJ",
        "outputId": "0e802983-b787-4258-e7d6-3d17b363d1ae"
      },
      "source": [
        "#bagimli numerik degiskenler normalize ediliyor\n",
        "#from sklearn.preprocessing import MinMaxScaler\n",
        "from sklearn.preprocessing import StandardScaler\n",
        "#numerik degiskenler \n",
        "to_be_scaled_feat = ['age', 'ap_hi', 'ap_lo','bmi']\n",
        "scaler=StandardScaler()\n",
        "scaler.fit(X_train[to_be_scaled_feat])\n",
        "X_train[to_be_scaled_feat] = scaler.transform(X_train[to_be_scaled_feat])\n",
        "X_test[to_be_scaled_feat] = scaler.transform(X_test[to_be_scaled_feat])"
      ],
      "execution_count": 13,
      "outputs": [
        {
          "output_type": "stream",
          "text": [
            "/usr/local/lib/python3.7/dist-packages/ipykernel_launcher.py:8: SettingWithCopyWarning: \n",
            "A value is trying to be set on a copy of a slice from a DataFrame.\n",
            "Try using .loc[row_indexer,col_indexer] = value instead\n",
            "\n",
            "See the caveats in the documentation: https://pandas.pydata.org/pandas-docs/stable/user_guide/indexing.html#returning-a-view-versus-a-copy\n",
            "  \n",
            "/usr/local/lib/python3.7/dist-packages/pandas/core/indexing.py:1734: SettingWithCopyWarning: \n",
            "A value is trying to be set on a copy of a slice from a DataFrame.\n",
            "Try using .loc[row_indexer,col_indexer] = value instead\n",
            "\n",
            "See the caveats in the documentation: https://pandas.pydata.org/pandas-docs/stable/user_guide/indexing.html#returning-a-view-versus-a-copy\n",
            "  isetter(loc, value[:, i].tolist())\n",
            "/usr/local/lib/python3.7/dist-packages/ipykernel_launcher.py:9: SettingWithCopyWarning: \n",
            "A value is trying to be set on a copy of a slice from a DataFrame.\n",
            "Try using .loc[row_indexer,col_indexer] = value instead\n",
            "\n",
            "See the caveats in the documentation: https://pandas.pydata.org/pandas-docs/stable/user_guide/indexing.html#returning-a-view-versus-a-copy\n",
            "  if __name__ == '__main__':\n",
            "/usr/local/lib/python3.7/dist-packages/pandas/core/indexing.py:1734: SettingWithCopyWarning: \n",
            "A value is trying to be set on a copy of a slice from a DataFrame.\n",
            "Try using .loc[row_indexer,col_indexer] = value instead\n",
            "\n",
            "See the caveats in the documentation: https://pandas.pydata.org/pandas-docs/stable/user_guide/indexing.html#returning-a-view-versus-a-copy\n",
            "  isetter(loc, value[:, i].tolist())\n"
          ],
          "name": "stderr"
        }
      ]
    },
    {
      "cell_type": "code",
      "metadata": {
        "id": "127q2s8tB-uP"
      },
      "source": [
        "#bagimli kategorik degiskenler one-hot-encoding yontemi ile kategorik formata donusturuluyor\n",
        "X_train = pd.get_dummies( X_train, columns= [\"gender\", 'cholesterol',  'gluc',  'smoke', 'alco', 'active'], drop_first=True)\n",
        "X_test = pd.get_dummies( X_test, columns= [\"gender\", 'cholesterol',  'gluc',  'smoke', 'alco', 'active'], drop_first=True)"
      ],
      "execution_count": 14,
      "outputs": []
    },
    {
      "cell_type": "code",
      "metadata": {
        "id": "Zo9zdRoaCAgT"
      },
      "source": [
        "# pytorch kutuphanesini calisma alanimiza dahil ediyoruz\n",
        "import torch\n",
        "from torch import nn, optim\n",
        "import torch.nn.functional as F"
      ],
      "execution_count": 15,
      "outputs": []
    },
    {
      "cell_type": "code",
      "metadata": {
        "colab": {
          "base_uri": "https://localhost:8080/"
        },
        "id": "TUJxCrxbCCQK",
        "outputId": "e16db64a-2930-4a71-ace8-ed09fdc31f8f"
      },
      "source": [
        "# egitim ve test veri setlerimizin\n",
        "# bagimli ve bagimsiz degiskenlerini torch yapisina donusturuyoruz\n",
        "X_train = torch.from_numpy(X_train.to_numpy()).float()\n",
        "y_train = torch.squeeze(torch.from_numpy(y_train.to_numpy()).float())\n",
        "X_test = torch.from_numpy(X_test.to_numpy()).float()\n",
        "y_test = torch.squeeze(torch.from_numpy(y_test.to_numpy()).float())\n",
        "print(X_train.shape, y_train.shape)\n",
        "print(X_test.shape, y_test.shape)"
      ],
      "execution_count": 16,
      "outputs": [
        {
          "output_type": "stream",
          "text": [
            "torch.Size([56000, 12]) torch.Size([56000])\n",
            "torch.Size([14000, 12]) torch.Size([14000])\n"
          ],
          "name": "stdout"
        }
      ]
    },
    {
      "cell_type": "code",
      "metadata": {
        "id": "D-TNuPbSCGUN"
      },
      "source": [
        "# modelin dogrulugunu hesaplayacak fonksiyon\n",
        "def calculate_accuracy(y_true, y_pred):\n",
        "  predicted = y_pred.ge(.5).view(-1)\n",
        "  return (y_true == predicted).sum().float() / len(y_true)"
      ],
      "execution_count": 17,
      "outputs": []
    },
    {
      "cell_type": "code",
      "metadata": {
        "id": "F0CQqwVWCIIe"
      },
      "source": [
        "# sonuclari yuvarlayacak fonksiyon\n",
        "def round_tensor(t, decimal_places=3):\n",
        "  return round(t.item(), decimal_places)"
      ],
      "execution_count": 18,
      "outputs": []
    },
    {
      "cell_type": "code",
      "metadata": {
        "id": "CvnPLWEWCJuK"
      },
      "source": [
        "# Yapay sinir mimarisi bu sinif ile olusturuluyor\n",
        "class Net(nn.Module):\n",
        "    \n",
        "  def __init__(self, n_features):\n",
        "    super(Net, self).__init__()\n",
        "    self.fc1 = nn.Linear(n_features, 5)\n",
        "    self.fc2 = nn.Linear(5, 3)\n",
        "    self.fc3 = nn.Linear(3, 1)\n",
        "    \n",
        "  def forward(self, x):\n",
        "    x = F.relu(self.fc1(x))\n",
        "    x = F.relu(self.fc2(x))\n",
        "    return torch.sigmoid(self.fc3(x))"
      ],
      "execution_count": 19,
      "outputs": []
    },
    {
      "cell_type": "code",
      "metadata": {
        "id": "SynGyQNeCMKq"
      },
      "source": [
        "# Yapilandirdigimiz modelin girdi katmani boyutu, hata fonk, optimizasyon fonk. gibi \n",
        "# parametrelerini veriyoruz\n",
        "net = Net(X_train.shape[1])"
      ],
      "execution_count": 24,
      "outputs": []
    },
    {
      "cell_type": "code",
      "metadata": {
        "id": "F-xnZ-qPCVyG"
      },
      "source": [
        "# hata hesaplama metrigimiz\n",
        "#criterion = nn.BCELoss()\n",
        "criterion = nn.MSELoss()"
      ],
      "execution_count": 25,
      "outputs": []
    },
    {
      "cell_type": "code",
      "metadata": {
        "id": "us7tUvPaCZMJ"
      },
      "source": [
        "# ogrenme fonksiyonumuz ve ogrenme orani\n",
        "optimizer = optim.Adam(net.parameters(), lr=0.001)"
      ],
      "execution_count": 26,
      "outputs": []
    },
    {
      "cell_type": "code",
      "metadata": {
        "id": "PJhZwbIVCaym"
      },
      "source": [
        "# hesaplamada kullanilacak degiskenlerimiz\n",
        "count = 0\n",
        "loss_list = []\n",
        "iteration_list = []\n",
        "accuracy_list = []"
      ],
      "execution_count": 27,
      "outputs": []
    },
    {
      "cell_type": "code",
      "metadata": {
        "colab": {
          "base_uri": "https://localhost:8080/"
        },
        "id": "l7ITJNIbChrh",
        "outputId": "e4a7c38e-6f2c-4c0f-f9bc-618d33830143"
      },
      "source": [
        "# modelin egitimi yapiliyor\n",
        "for epoch in range(1000):\n",
        "\n",
        "    \n",
        "    #egitim verisiyle model kuruluyor ve cikti tahmin ediliyor\n",
        "    y_pred = net(X_train)\n",
        "    y_pred = torch.squeeze(y_pred)\n",
        "    #egitim verisindeki tahmin hatasi hesaplaniyor\n",
        "    train_loss = criterion(y_pred, y_train)\n",
        "    \n",
        "\n",
        "    # her 100 iterasyonda bir hata hesapliyoruz      \n",
        "    if epoch % 100 == 0:\n",
        "      train_acc = calculate_accuracy(y_train, y_pred)\n",
        "      y_test_pred = net(X_test)\n",
        "      y_test_pred = torch.squeeze(y_test_pred)\n",
        "      test_loss = criterion(y_test_pred, y_test)\n",
        "      test_acc = calculate_accuracy(y_test, y_test_pred)\n",
        "\n",
        "      loss_list.append(test_loss.data)\n",
        "      iteration_list.append(count)\n",
        "      accuracy_list.append(train_acc)\n",
        "    \n",
        "      print(\n",
        "f'''epoch {epoch}\n",
        "Train set - loss: {round_tensor(train_loss)}, accuracy: {round_tensor(train_acc)}\n",
        "Test  set - loss: {round_tensor(test_loss)}, accuracy: {round_tensor(test_acc)}\n",
        "''')\n",
        "\n",
        "    # Clear gradients\n",
        "    optimizer.zero_grad()\n",
        "    \n",
        "    # Calculating gradients\n",
        "    train_loss.backward()\n",
        "    # Update parameters\n",
        "    optimizer.step()\n",
        "    count += 1"
      ],
      "execution_count": 28,
      "outputs": [
        {
          "output_type": "stream",
          "text": [
            "epoch 0\n",
            "Train set - loss: 0.255, accuracy: 0.501\n",
            "Test  set - loss: 0.256, accuracy: 0.499\n",
            "\n",
            "epoch 100\n",
            "Train set - loss: 0.236, accuracy: 0.624\n",
            "Test  set - loss: 0.235, accuracy: 0.631\n",
            "\n",
            "epoch 200\n",
            "Train set - loss: 0.228, accuracy: 0.644\n",
            "Test  set - loss: 0.226, accuracy: 0.65\n",
            "\n",
            "epoch 300\n",
            "Train set - loss: 0.22, accuracy: 0.659\n",
            "Test  set - loss: 0.219, accuracy: 0.666\n",
            "\n",
            "epoch 400\n",
            "Train set - loss: 0.208, accuracy: 0.683\n",
            "Test  set - loss: 0.206, accuracy: 0.688\n",
            "\n",
            "epoch 500\n",
            "Train set - loss: 0.198, accuracy: 0.709\n",
            "Test  set - loss: 0.196, accuracy: 0.713\n",
            "\n",
            "epoch 600\n",
            "Train set - loss: 0.19, accuracy: 0.724\n",
            "Test  set - loss: 0.189, accuracy: 0.727\n",
            "\n",
            "epoch 700\n",
            "Train set - loss: 0.187, accuracy: 0.728\n",
            "Test  set - loss: 0.187, accuracy: 0.73\n",
            "\n",
            "epoch 800\n",
            "Train set - loss: 0.186, accuracy: 0.732\n",
            "Test  set - loss: 0.185, accuracy: 0.733\n",
            "\n",
            "epoch 900\n",
            "Train set - loss: 0.185, accuracy: 0.733\n",
            "Test  set - loss: 0.184, accuracy: 0.737\n",
            "\n"
          ],
          "name": "stdout"
        }
      ]
    },
    {
      "cell_type": "code",
      "metadata": {
        "colab": {
          "base_uri": "https://localhost:8080/"
        },
        "id": "A2IeiQEVCpIA",
        "outputId": "89c93468-90b4-4246-b991-873a21c02305"
      },
      "source": [
        "# performans degerlendirme icin gerekli standart kutuphaneler\n",
        "from sklearn.metrics import classification_report, accuracy_score\n",
        "y_pred = net(X_test)\n",
        "y_pred = y_pred.ge(.5).view(-1).cpu()\n",
        "y_test = y_test.cpu()\n",
        "print(classification_report(y_test, y_pred))\n",
        "print(accuracy_score(y_test, y_pred))"
      ],
      "execution_count": 29,
      "outputs": [
        {
          "output_type": "stream",
          "text": [
            "              precision    recall  f1-score   support\n",
            "\n",
            "         0.0       0.72      0.77      0.74      6988\n",
            "         1.0       0.75      0.70      0.73      7012\n",
            "\n",
            "    accuracy                           0.74     14000\n",
            "   macro avg       0.74      0.74      0.73     14000\n",
            "weighted avg       0.74      0.74      0.73     14000\n",
            "\n",
            "0.7352142857142857\n"
          ],
          "name": "stdout"
        }
      ]
    },
    {
      "cell_type": "code",
      "metadata": {
        "colab": {
          "base_uri": "https://localhost:8080/",
          "height": 295
        },
        "id": "E0SnxR_OCsb2",
        "outputId": "994bb730-3912-46e0-8d84-61397c367af8"
      },
      "source": [
        "# her bir iterasyonda kayip (hata) grafigi\n",
        "import matplotlib.pyplot as plt\n",
        "# visualization loss \n",
        "plt.plot(iteration_list,loss_list)\n",
        "plt.xlabel(\"Number of iteration\")\n",
        "plt.ylabel(\"Loss\")\n",
        "plt.title(\"ANN: Loss vs Number of iteration\")\n",
        "plt.show()"
      ],
      "execution_count": 30,
      "outputs": [
        {
          "output_type": "display_data",
          "data": {
            "image/png": "[encoded data removed]",
            "text/plain": [
              "<Figure size 432x288 with 1 Axes>"
            ]
          },
          "metadata": {
            "tags": [],
            "needs_background": "light"
          }
        }
      ]
    },
    {
      "cell_type": "code",
      "metadata": {
        "colab": {
          "base_uri": "https://localhost:8080/",
          "height": 295
        },
        "id": "PoAiwyPfC9Ok",
        "outputId": "5a2a9a8a-20a4-4e16-9ac5-cd407c2a5954"
      },
      "source": [
        "# her bir iterasyonda modelin dogruluk grafigi\n",
        "plt.plot(iteration_list,accuracy_list,color = \"red\")\n",
        "plt.xlabel(\"Number of iteration\")\n",
        "plt.ylabel(\"Accuracy\")\n",
        "plt.title(\"ANN: Accuracy vs Number of iteration\")\n",
        "plt.show()"
      ],
      "execution_count": 31,
      "outputs": [
        {
          "output_type": "display_data",
          "data": {
            "image/png": "[encoded data removed]",
            "text/plain": [
              "<Figure size 432x288 with 1 Axes>"
            ]
          },
          "metadata": {
            "tags": [],
            "needs_background": "light"
          }
        }
      ]
    }
  ]
}