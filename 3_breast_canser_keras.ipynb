{
  "nbformat": 4,
  "nbformat_minor": 0,
  "metadata": {
    "colab": {
      "name": "3_breast_canser_keras.ipynb",
      "provenance": [],
      "collapsed_sections": [],
      "authorship_tag": "ABX9TyM0+z4hiyxJySnTSWDbrzx8",
      "include_colab_link": true
    },
    "kernelspec": {
      "name": "python3",
      "display_name": "Python 3"
    },
    "language_info": {
      "name": "python"
    }
  },
  "cells": [
    {
      "cell_type": "markdown",
      "metadata": {
        "id": "view-in-github",
        "colab_type": "text"
      },
      "source": [
        "<a href=\"https://colab.research.google.com/github/zekzen/dataclub/blob/main/3_breast_canser_keras.ipynb\" target=\"_parent\"><img src=\"https://colab.research.google.com/assets/colab-badge.svg\" alt=\"Open In Colab\"/></a>"
      ]
    },
    {
      "cell_type": "code",
      "metadata": {
        "id": "OSsBIzdAG52I"
      },
      "source": [
        "# -*- coding: utf-8 -*-\n",
        "\"\"\"\n",
        "İU Data Klubu - Yapay Sinir Aglari Sunumu\n",
        "07.04.2021\n",
        "Author: Dr. Zeki Ozen\n",
        "\n",
        "Dataset kaynagi: UCI Breast Cancer Dataset @ Scikit-learn\n",
        "\n",
        "Faydalanilan Kod Kaynağı: https://medium.com/@tayyipgoren/classifying-breast-cancer-98-18-accurate-with-keras-106cf846cac0\n",
        "\n",
        "\"\"\""
      ],
      "execution_count": null,
      "outputs": []
    },
    {
      "cell_type": "code",
      "metadata": {
        "id": "60HqgVd_G-Js"
      },
      "source": [
        "#gerekli kutuphaneleri import edelim\n",
        "import numpy as np\n",
        "import pandas as pd\n",
        "from sklearn import datasets\n",
        "from sklearn.model_selection import train_test_split\n",
        "from sklearn.preprocessing import StandardScaler\n",
        "from sklearn.preprocessing import MinMaxScaler"
      ],
      "execution_count": null,
      "outputs": []
    },
    {
      "cell_type": "code",
      "metadata": {
        "id": "VEuc6PTNG_5n"
      },
      "source": [
        "#veri setini yukleyelim\n",
        "data_set = datasets.load_breast_cancer()"
      ],
      "execution_count": null,
      "outputs": []
    },
    {
      "cell_type": "code",
      "metadata": {
        "id": "htustkHwHBnw"
      },
      "source": [
        "# bagimli ve bagimsiz degiskenleri ayarlayalim\n",
        "X=data_set.data\n",
        "y=data_set.target"
      ],
      "execution_count": null,
      "outputs": []
    },
    {
      "cell_type": "code",
      "metadata": {
        "id": "Lo444nemHDDZ"
      },
      "source": [
        "# egitim veri setini 0-1 araliginda olcekleyelim\n",
        "random.seed(123)\n",
        "scaler = MinMaxScaler()\n",
        "X = scaler.fit_transform(X)\n",
        "# veri setini %80 egitim %20 test olacak sekilde bolelim\n",
        "X_train, X_test, y_train, y_test = train_test_split(X, y, test_size=0.2)"
      ],
      "execution_count": null,
      "outputs": []
    },
    {
      "cell_type": "code",
      "metadata": {
        "id": "BQZtJUvHHVYZ"
      },
      "source": [
        "# ysa icin kullanacagimiz tenserflow ve keras kutuphanelerini \n",
        "# calisma ortamimiza dahil edelim\n",
        "import tensorflow as tf\n",
        "from tensorflow.keras.models import Sequential\n",
        "from tensorflow.keras.layers import Dense, Dropout"
      ],
      "execution_count": null,
      "outputs": []
    },
    {
      "cell_type": "code",
      "metadata": {
        "id": "5BVhVyMQHXC9"
      },
      "source": [
        "# ysa modelimizi kuralim\n",
        "# modelimiz uc katmanli ve katmanalrinda sirasiyla\n",
        "# 30-10-1 adet noron bulunan mimarimiz \n",
        "model = Sequential()\n",
        "model.add(Dense(30, activation='sigmoid', input_shape=(30,)))\n",
        "model.add(Dense(10, activation='sigmoid'))\n",
        "# dropout fonksiyonu\n",
        "model.add(Dropout(0.25))\n",
        "model.add(Dense(1, activation='sigmoid'))"
      ],
      "execution_count": null,
      "outputs": []
    },
    {
      "cell_type": "code",
      "metadata": {
        "id": "JvHY2nqeHZ3J"
      },
      "source": [
        "# modelimizi derleyelim\n",
        "model.compile(optimizer='adam', loss=tf.keras.losses.mean_squared_logarithmic_error)"
      ],
      "execution_count": null,
      "outputs": []
    },
    {
      "cell_type": "code",
      "metadata": {
        "id": "dT86Z-R2Hbxi"
      },
      "source": [
        "# modelimizi egitelim\n",
        "model.fit(X_train, y_train, batch_size=30, epochs=200, verbose=1)"
      ],
      "execution_count": null,
      "outputs": []
    },
    {
      "cell_type": "code",
      "metadata": {
        "id": "Q1jln4SyHdbA"
      },
      "source": [
        "# modelimizin dogrulugunu test veri seti ile sinayalim\n",
        "#Test veri setinin basarimi\n",
        "test_pred = model.predict(X_test)\n",
        "# modelimizin ciktisi 0 ve 1 arasinda ondalikli sayilardir\n",
        "# bunun anlami bir ornegin bir sinifa ait olma olasiligidir\n",
        "print(test_pred)"
      ],
      "execution_count": null,
      "outputs": []
    },
    {
      "cell_type": "code",
      "metadata": {
        "id": "Kwx1G2WtHgOa"
      },
      "source": [
        "#Orneklerin bir sinifa ait olma olasiliklarini >  0.5 ise 1, degilse 0 olarak kodluyoruz\n",
        "test_pred = test_pred.round().astype(int)\n",
        "print(test_pred)"
      ],
      "execution_count": null,
      "outputs": []
    },
    {
      "cell_type": "code",
      "metadata": {
        "id": "yCR-pD2YHiCs"
      },
      "source": [
        "# basit tablo uzerinden performansa bakalim\n",
        "from sklearn.metrics import confusion_matrix \n",
        "conf_matrix = confusion_matrix(y_test, test_pred) \n",
        "print(conf_matrix)"
      ],
      "execution_count": null,
      "outputs": []
    },
    {
      "cell_type": "code",
      "metadata": {
        "id": "KAESrv4JHj5z"
      },
      "source": [
        "# daha ayrintili degerlendirme icin confusion matrixi olusturalim\n",
        "from sklearn.metrics import classification_report, accuracy_score\n",
        "print(classification_report(y_test, test_pred))"
      ],
      "execution_count": null,
      "outputs": []
    }
  ]
}