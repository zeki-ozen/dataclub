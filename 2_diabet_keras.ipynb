{
  "nbformat": 4,
  "nbformat_minor": 0,
  "metadata": {
    "colab": {
      "name": "2_diabet_keras.ipynb",
      "provenance": [],
      "collapsed_sections": [],
      "authorship_tag": "ABX9TyMSpxCyJanzhLgwV2VIGaPR",
      "include_colab_link": true
    },
    "kernelspec": {
      "name": "python3",
      "display_name": "Python 3"
    },
    "language_info": {
      "name": "python"
    }
  },
  "cells": [
    {
      "cell_type": "markdown",
      "metadata": {
        "id": "view-in-github",
        "colab_type": "text"
      },
      "source": [
        "<a href=\"https://colab.research.google.com/github/zekzen/dataclub/blob/main/2_diabet_keras.ipynb\" target=\"_parent\"><img src=\"https://colab.research.google.com/assets/colab-badge.svg\" alt=\"Open In Colab\"/></a>"
      ]
    },
    {
      "cell_type": "code",
      "metadata": {
        "id": "A-D-gPLTKEMA"
      },
      "source": [
        "# -*- coding: utf-8 -*-\n",
        "\"\"\"\n",
        "İTF Yapay Zeka Klubu - Yapay Sinir Aglari Sunumu\n",
        "28.11.2020\n",
        "Author: Dr. Zeki Ozen\n",
        "\n",
        "Dataset kaynagi: UCI Pima-Indian Diabet Dataset @ Kaggle\n",
        "Link: https://archive.ics.uci.edu/ml/machine-learning-databases/heart-disease/processed.cleveland.data\n",
        "\n",
        "Faydalanilan Kod Kaynağı:  https://www.kaggle.com/atulnet/pima-diabetes-keras-implementation/data#Pima-Indians-Diabetes-Database\n",
        "\n",
        "\"\"\"\n",
        "# Gerekli kutuphaneleri calisma ortamimiza dahil edelim\n",
        "import pandas as pd\n",
        "import numpy as np\n",
        "from sklearn.model_selection import train_test_split"
      ],
      "execution_count": 1,
      "outputs": []
    },
    {
      "cell_type": "code",
      "metadata": {
        "colab": {
          "base_uri": "https://localhost:8080/",
          "height": 336
        },
        "id": "tDErRmSqKIYj",
        "outputId": "cb2ed850-949b-4e4f-a85c-9c8156c382e2"
      },
      "source": [
        "# veri setini calisma ortamimiza yukleyelim\n",
        "\n",
        "import pandas as pd\n",
        "url = 'https://raw.githubusercontent.com/zekzen/dataclub/main/diabetes.csv'\n",
        "df = pd.read_csv(url)\n",
        "print(df.shape)\n",
        "df.describe().transpose()"
      ],
      "execution_count": 2,
      "outputs": [
        {
          "output_type": "stream",
          "text": [
            "(768, 9)\n"
          ],
          "name": "stdout"
        },
        {
          "output_type": "execute_result",
          "data": {
            "text/html": [
              "<div>\n",
              "<style scoped>\n",
              "    .dataframe tbody tr th:only-of-type {\n",
              "        vertical-align: middle;\n",
              "    }\n",
              "\n",
              "    .dataframe tbody tr th {\n",
              "        vertical-align: top;\n",
              "    }\n",
              "\n",
              "    .dataframe thead th {\n",
              "        text-align: right;\n",
              "    }\n",
              "</style>\n",
              "<table border=\"1\" class=\"dataframe\">\n",
              "  <thead>\n",
              "    <tr style=\"text-align: right;\">\n",
              "      <th></th>\n",
              "      <th>count</th>\n",
              "      <th>mean</th>\n",
              "      <th>std</th>\n",
              "      <th>min</th>\n",
              "      <th>25%</th>\n",
              "      <th>50%</th>\n",
              "      <th>75%</th>\n",
              "      <th>max</th>\n",
              "    </tr>\n",
              "  </thead>\n",
              "  <tbody>\n",
              "    <tr>\n",
              "      <th>Pregnancies</th>\n",
              "      <td>768.0</td>\n",
              "      <td>3.845052</td>\n",
              "      <td>3.369578</td>\n",
              "      <td>0.000</td>\n",
              "      <td>1.00000</td>\n",
              "      <td>3.0000</td>\n",
              "      <td>6.00000</td>\n",
              "      <td>17.00</td>\n",
              "    </tr>\n",
              "    <tr>\n",
              "      <th>Glucose</th>\n",
              "      <td>768.0</td>\n",
              "      <td>120.894531</td>\n",
              "      <td>31.972618</td>\n",
              "      <td>0.000</td>\n",
              "      <td>99.00000</td>\n",
              "      <td>117.0000</td>\n",
              "      <td>140.25000</td>\n",
              "      <td>199.00</td>\n",
              "    </tr>\n",
              "    <tr>\n",
              "      <th>BloodPressure</th>\n",
              "      <td>768.0</td>\n",
              "      <td>69.105469</td>\n",
              "      <td>19.355807</td>\n",
              "      <td>0.000</td>\n",
              "      <td>62.00000</td>\n",
              "      <td>72.0000</td>\n",
              "      <td>80.00000</td>\n",
              "      <td>122.00</td>\n",
              "    </tr>\n",
              "    <tr>\n",
              "      <th>SkinThickness</th>\n",
              "      <td>768.0</td>\n",
              "      <td>20.536458</td>\n",
              "      <td>15.952218</td>\n",
              "      <td>0.000</td>\n",
              "      <td>0.00000</td>\n",
              "      <td>23.0000</td>\n",
              "      <td>32.00000</td>\n",
              "      <td>99.00</td>\n",
              "    </tr>\n",
              "    <tr>\n",
              "      <th>Insulin</th>\n",
              "      <td>768.0</td>\n",
              "      <td>79.799479</td>\n",
              "      <td>115.244002</td>\n",
              "      <td>0.000</td>\n",
              "      <td>0.00000</td>\n",
              "      <td>30.5000</td>\n",
              "      <td>127.25000</td>\n",
              "      <td>846.00</td>\n",
              "    </tr>\n",
              "    <tr>\n",
              "      <th>BMI</th>\n",
              "      <td>768.0</td>\n",
              "      <td>31.992578</td>\n",
              "      <td>7.884160</td>\n",
              "      <td>0.000</td>\n",
              "      <td>27.30000</td>\n",
              "      <td>32.0000</td>\n",
              "      <td>36.60000</td>\n",
              "      <td>67.10</td>\n",
              "    </tr>\n",
              "    <tr>\n",
              "      <th>DiabetesPedigreeFunction</th>\n",
              "      <td>768.0</td>\n",
              "      <td>0.471876</td>\n",
              "      <td>0.331329</td>\n",
              "      <td>0.078</td>\n",
              "      <td>0.24375</td>\n",
              "      <td>0.3725</td>\n",
              "      <td>0.62625</td>\n",
              "      <td>2.42</td>\n",
              "    </tr>\n",
              "    <tr>\n",
              "      <th>Age</th>\n",
              "      <td>768.0</td>\n",
              "      <td>33.240885</td>\n",
              "      <td>11.760232</td>\n",
              "      <td>21.000</td>\n",
              "      <td>24.00000</td>\n",
              "      <td>29.0000</td>\n",
              "      <td>41.00000</td>\n",
              "      <td>81.00</td>\n",
              "    </tr>\n",
              "    <tr>\n",
              "      <th>Outcome</th>\n",
              "      <td>768.0</td>\n",
              "      <td>0.348958</td>\n",
              "      <td>0.476951</td>\n",
              "      <td>0.000</td>\n",
              "      <td>0.00000</td>\n",
              "      <td>0.0000</td>\n",
              "      <td>1.00000</td>\n",
              "      <td>1.00</td>\n",
              "    </tr>\n",
              "  </tbody>\n",
              "</table>\n",
              "</div>"
            ],
            "text/plain": [
              "                          count        mean  ...        75%     max\n",
              "Pregnancies               768.0    3.845052  ...    6.00000   17.00\n",
              "Glucose                   768.0  120.894531  ...  140.25000  199.00\n",
              "BloodPressure             768.0   69.105469  ...   80.00000  122.00\n",
              "SkinThickness             768.0   20.536458  ...   32.00000   99.00\n",
              "Insulin                   768.0   79.799479  ...  127.25000  846.00\n",
              "BMI                       768.0   31.992578  ...   36.60000   67.10\n",
              "DiabetesPedigreeFunction  768.0    0.471876  ...    0.62625    2.42\n",
              "Age                       768.0   33.240885  ...   41.00000   81.00\n",
              "Outcome                   768.0    0.348958  ...    1.00000    1.00\n",
              "\n",
              "[9 rows x 8 columns]"
            ]
          },
          "metadata": {
            "tags": []
          },
          "execution_count": 2
        }
      ]
    },
    {
      "cell_type": "code",
      "metadata": {
        "id": "j3GWKpZZKRC6"
      },
      "source": [
        "#bagimli ve bagimsiz degiskenelri ayarlayalim\n",
        "\n",
        "# y = a1x1 + a2x3 +a3x3  +++ b\n",
        "# y = aX + b\n",
        "X = df.iloc[:,:-1]\n",
        "y = df.iloc[:,-1:]"
      ],
      "execution_count": 3,
      "outputs": []
    },
    {
      "cell_type": "code",
      "metadata": {
        "colab": {
          "base_uri": "https://localhost:8080/"
        },
        "id": "iHY0jLsVKVac",
        "outputId": "e5a58e08-bc19-47ab-ee3d-d0d8ec4a758e"
      },
      "source": [
        "# Veriyi 70-30 oraninda egitim ve test veri seti olarak ikiye ayiralim\n",
        "X_train, X_test, y_train, y_test = train_test_split(X, y, test_size=0.30, random_state=40)\n",
        "print(X_train.shape)\n",
        "print(X_test.shape)"
      ],
      "execution_count": 4,
      "outputs": [
        {
          "output_type": "stream",
          "text": [
            "(537, 8)\n",
            "(231, 8)\n"
          ],
          "name": "stdout"
        }
      ]
    },
    {
      "cell_type": "code",
      "metadata": {
        "id": "CZSd9xOhKXwb"
      },
      "source": [
        "# Veriyi 0-1 araliginda normalize edelim\n",
        "from sklearn.preprocessing import MinMaxScaler\n",
        "scaler = MinMaxScaler()\n",
        "X_train = scaler.fit_transform(X_train)\n",
        "X_test = scaler.fit_transform(X_test)"
      ],
      "execution_count": 5,
      "outputs": []
    },
    {
      "cell_type": "code",
      "metadata": {
        "id": "5T3OIcOrKKsK"
      },
      "source": [
        "# Keras kutuphane ve modulleri\n",
        "from tensorflow.keras.models import Sequential\n",
        "from tensorflow.keras.layers import Dense\n",
        "from tensorflow.keras.utils import to_categorical"
      ],
      "execution_count": 6,
      "outputs": []
    },
    {
      "cell_type": "code",
      "metadata": {
        "id": "eBgWaYQ-Kab9"
      },
      "source": [
        "# one hot encode outputs\n",
        "y_train = to_categorical(y_train)\n",
        "y_test = to_categorical(y_test)"
      ],
      "execution_count": 7,
      "outputs": []
    },
    {
      "cell_type": "code",
      "metadata": {
        "id": "uqpdR-d9Kcdt"
      },
      "source": [
        "# YSA Modelimizi kuralim\n",
        "# 100-10-5-2 mimarimiz\n",
        "model = Sequential()\n",
        "model.add(Dense(100, activation='relu', input_dim=8))\n",
        "model.add(Dense(5, activation='relu'))\n",
        "model.add(Dense(2, activation='softmax'))\n",
        "\n",
        "# Modelimizin parametrelerini verelim\n",
        "model.compile(optimizer='adam',\n",
        "              loss='binary_crossentropy',\n",
        "              metrics=['accuracy'])"
      ],
      "execution_count": 8,
      "outputs": []
    },
    {
      "cell_type": "code",
      "metadata": {
        "colab": {
          "base_uri": "https://localhost:8080/"
        },
        "id": "HZujaPf-Kg5q",
        "outputId": "c03123c7-796b-4557-d472-171762ecde22"
      },
      "source": [
        "# modelimizi egitmeye baslayalim\n",
        "model.fit(X_train, y_train,  epochs=100, batch_size=16 )"
      ],
      "execution_count": 9,
      "outputs": [
        {
          "output_type": "stream",
          "text": [
            "Epoch 1/100\n",
            "34/34 [==============================] - 1s 1ms/step - loss: 0.6965 - accuracy: 0.5469\n",
            "Epoch 2/100\n",
            "34/34 [==============================] - 0s 1ms/step - loss: 0.6859 - accuracy: 0.6419\n",
            "Epoch 3/100\n",
            "34/34 [==============================] - 0s 2ms/step - loss: 0.6728 - accuracy: 0.6509\n",
            "Epoch 4/100\n",
            "34/34 [==============================] - 0s 1ms/step - loss: 0.6564 - accuracy: 0.6553\n",
            "Epoch 5/100\n",
            "34/34 [==============================] - 0s 1ms/step - loss: 0.6415 - accuracy: 0.6709\n",
            "Epoch 6/100\n",
            "34/34 [==============================] - 0s 1ms/step - loss: 0.6319 - accuracy: 0.6711\n",
            "Epoch 7/100\n",
            "34/34 [==============================] - 0s 1ms/step - loss: 0.6068 - accuracy: 0.6978\n",
            "Epoch 8/100\n",
            "34/34 [==============================] - 0s 1ms/step - loss: 0.6209 - accuracy: 0.6490\n",
            "Epoch 9/100\n",
            "34/34 [==============================] - 0s 1ms/step - loss: 0.5954 - accuracy: 0.6816\n",
            "Epoch 10/100\n",
            "34/34 [==============================] - 0s 1ms/step - loss: 0.5674 - accuracy: 0.7184\n",
            "Epoch 11/100\n",
            "34/34 [==============================] - 0s 1ms/step - loss: 0.5556 - accuracy: 0.7091\n",
            "Epoch 12/100\n",
            "34/34 [==============================] - 0s 1ms/step - loss: 0.5708 - accuracy: 0.6863\n",
            "Epoch 13/100\n",
            "34/34 [==============================] - 0s 1ms/step - loss: 0.5472 - accuracy: 0.7332\n",
            "Epoch 14/100\n",
            "34/34 [==============================] - 0s 1ms/step - loss: 0.5300 - accuracy: 0.7509\n",
            "Epoch 15/100\n",
            "34/34 [==============================] - 0s 1ms/step - loss: 0.5160 - accuracy: 0.7459\n",
            "Epoch 16/100\n",
            "34/34 [==============================] - 0s 1ms/step - loss: 0.5340 - accuracy: 0.7169\n",
            "Epoch 17/100\n",
            "34/34 [==============================] - 0s 1ms/step - loss: 0.5247 - accuracy: 0.7338\n",
            "Epoch 18/100\n",
            "34/34 [==============================] - 0s 1ms/step - loss: 0.4991 - accuracy: 0.7412\n",
            "Epoch 19/100\n",
            "34/34 [==============================] - 0s 1ms/step - loss: 0.5030 - accuracy: 0.7548\n",
            "Epoch 20/100\n",
            "34/34 [==============================] - 0s 1ms/step - loss: 0.4925 - accuracy: 0.7506\n",
            "Epoch 21/100\n",
            "34/34 [==============================] - 0s 1ms/step - loss: 0.4830 - accuracy: 0.7695\n",
            "Epoch 22/100\n",
            "34/34 [==============================] - 0s 2ms/step - loss: 0.4960 - accuracy: 0.7676\n",
            "Epoch 23/100\n",
            "34/34 [==============================] - 0s 1ms/step - loss: 0.4542 - accuracy: 0.7786\n",
            "Epoch 24/100\n",
            "34/34 [==============================] - 0s 1ms/step - loss: 0.4633 - accuracy: 0.7740\n",
            "Epoch 25/100\n",
            "34/34 [==============================] - 0s 1ms/step - loss: 0.5029 - accuracy: 0.7547\n",
            "Epoch 26/100\n",
            "34/34 [==============================] - 0s 1ms/step - loss: 0.4769 - accuracy: 0.7783\n",
            "Epoch 27/100\n",
            "34/34 [==============================] - 0s 1ms/step - loss: 0.4985 - accuracy: 0.7568\n",
            "Epoch 28/100\n",
            "34/34 [==============================] - 0s 1ms/step - loss: 0.4865 - accuracy: 0.7746\n",
            "Epoch 29/100\n",
            "34/34 [==============================] - 0s 1ms/step - loss: 0.4533 - accuracy: 0.7869\n",
            "Epoch 30/100\n",
            "34/34 [==============================] - 0s 1ms/step - loss: 0.4491 - accuracy: 0.7820\n",
            "Epoch 31/100\n",
            "34/34 [==============================] - 0s 1ms/step - loss: 0.4823 - accuracy: 0.7757\n",
            "Epoch 32/100\n",
            "34/34 [==============================] - 0s 1ms/step - loss: 0.4738 - accuracy: 0.7593\n",
            "Epoch 33/100\n",
            "34/34 [==============================] - 0s 1ms/step - loss: 0.4915 - accuracy: 0.7608\n",
            "Epoch 34/100\n",
            "34/34 [==============================] - 0s 1ms/step - loss: 0.4626 - accuracy: 0.7793\n",
            "Epoch 35/100\n",
            "34/34 [==============================] - 0s 1ms/step - loss: 0.4800 - accuracy: 0.7813\n",
            "Epoch 36/100\n",
            "34/34 [==============================] - 0s 1ms/step - loss: 0.4560 - accuracy: 0.7866\n",
            "Epoch 37/100\n",
            "34/34 [==============================] - 0s 2ms/step - loss: 0.4758 - accuracy: 0.7777\n",
            "Epoch 38/100\n",
            "34/34 [==============================] - 0s 1ms/step - loss: 0.4577 - accuracy: 0.7743\n",
            "Epoch 39/100\n",
            "34/34 [==============================] - 0s 1ms/step - loss: 0.4873 - accuracy: 0.7730\n",
            "Epoch 40/100\n",
            "34/34 [==============================] - 0s 1ms/step - loss: 0.4497 - accuracy: 0.7801\n",
            "Epoch 41/100\n",
            "34/34 [==============================] - 0s 2ms/step - loss: 0.4687 - accuracy: 0.7834\n",
            "Epoch 42/100\n",
            "34/34 [==============================] - 0s 1ms/step - loss: 0.4664 - accuracy: 0.7692\n",
            "Epoch 43/100\n",
            "34/34 [==============================] - 0s 1ms/step - loss: 0.4821 - accuracy: 0.7762\n",
            "Epoch 44/100\n",
            "34/34 [==============================] - 0s 1ms/step - loss: 0.4531 - accuracy: 0.7948\n",
            "Epoch 45/100\n",
            "34/34 [==============================] - 0s 1ms/step - loss: 0.4485 - accuracy: 0.8038\n",
            "Epoch 46/100\n",
            "34/34 [==============================] - 0s 1ms/step - loss: 0.4217 - accuracy: 0.8032\n",
            "Epoch 47/100\n",
            "34/34 [==============================] - 0s 1ms/step - loss: 0.4124 - accuracy: 0.8196\n",
            "Epoch 48/100\n",
            "34/34 [==============================] - 0s 1ms/step - loss: 0.4193 - accuracy: 0.8074\n",
            "Epoch 49/100\n",
            "34/34 [==============================] - 0s 1ms/step - loss: 0.4657 - accuracy: 0.7892\n",
            "Epoch 50/100\n",
            "34/34 [==============================] - 0s 2ms/step - loss: 0.4472 - accuracy: 0.7874\n",
            "Epoch 51/100\n",
            "34/34 [==============================] - 0s 1ms/step - loss: 0.4097 - accuracy: 0.8011\n",
            "Epoch 52/100\n",
            "34/34 [==============================] - 0s 1ms/step - loss: 0.4686 - accuracy: 0.7691\n",
            "Epoch 53/100\n",
            "34/34 [==============================] - 0s 1ms/step - loss: 0.4565 - accuracy: 0.7769\n",
            "Epoch 54/100\n",
            "34/34 [==============================] - 0s 1ms/step - loss: 0.4436 - accuracy: 0.7952\n",
            "Epoch 55/100\n",
            "34/34 [==============================] - 0s 1ms/step - loss: 0.4295 - accuracy: 0.7959\n",
            "Epoch 56/100\n",
            "34/34 [==============================] - 0s 2ms/step - loss: 0.4368 - accuracy: 0.7850\n",
            "Epoch 57/100\n",
            "34/34 [==============================] - 0s 1ms/step - loss: 0.4687 - accuracy: 0.7504\n",
            "Epoch 58/100\n",
            "34/34 [==============================] - 0s 1ms/step - loss: 0.4383 - accuracy: 0.7931\n",
            "Epoch 59/100\n",
            "34/34 [==============================] - 0s 1ms/step - loss: 0.4555 - accuracy: 0.7903\n",
            "Epoch 60/100\n",
            "34/34 [==============================] - 0s 2ms/step - loss: 0.4159 - accuracy: 0.7877\n",
            "Epoch 61/100\n",
            "34/34 [==============================] - 0s 2ms/step - loss: 0.4343 - accuracy: 0.8056\n",
            "Epoch 62/100\n",
            "34/34 [==============================] - 0s 1ms/step - loss: 0.4148 - accuracy: 0.8080\n",
            "Epoch 63/100\n",
            "34/34 [==============================] - 0s 1ms/step - loss: 0.4588 - accuracy: 0.7949\n",
            "Epoch 64/100\n",
            "34/34 [==============================] - 0s 1ms/step - loss: 0.4388 - accuracy: 0.7953\n",
            "Epoch 65/100\n",
            "34/34 [==============================] - 0s 1ms/step - loss: 0.4340 - accuracy: 0.7991\n",
            "Epoch 66/100\n",
            "34/34 [==============================] - 0s 2ms/step - loss: 0.4379 - accuracy: 0.7983\n",
            "Epoch 67/100\n",
            "34/34 [==============================] - 0s 1ms/step - loss: 0.4447 - accuracy: 0.7948\n",
            "Epoch 68/100\n",
            "34/34 [==============================] - 0s 1ms/step - loss: 0.4101 - accuracy: 0.8101\n",
            "Epoch 69/100\n",
            "34/34 [==============================] - 0s 1ms/step - loss: 0.4265 - accuracy: 0.7806\n",
            "Epoch 70/100\n",
            "34/34 [==============================] - 0s 1ms/step - loss: 0.4272 - accuracy: 0.7952\n",
            "Epoch 71/100\n",
            "34/34 [==============================] - 0s 1ms/step - loss: 0.4112 - accuracy: 0.7924\n",
            "Epoch 72/100\n",
            "34/34 [==============================] - 0s 1ms/step - loss: 0.4440 - accuracy: 0.7841\n",
            "Epoch 73/100\n",
            "34/34 [==============================] - 0s 2ms/step - loss: 0.4652 - accuracy: 0.7744\n",
            "Epoch 74/100\n",
            "34/34 [==============================] - 0s 2ms/step - loss: 0.4166 - accuracy: 0.8077\n",
            "Epoch 75/100\n",
            "34/34 [==============================] - 0s 1ms/step - loss: 0.4317 - accuracy: 0.8006\n",
            "Epoch 76/100\n",
            "34/34 [==============================] - 0s 1ms/step - loss: 0.4171 - accuracy: 0.7897\n",
            "Epoch 77/100\n",
            "34/34 [==============================] - 0s 1ms/step - loss: 0.4589 - accuracy: 0.7803\n",
            "Epoch 78/100\n",
            "34/34 [==============================] - 0s 1ms/step - loss: 0.4382 - accuracy: 0.7823\n",
            "Epoch 79/100\n",
            "34/34 [==============================] - 0s 1ms/step - loss: 0.4440 - accuracy: 0.7754\n",
            "Epoch 80/100\n",
            "34/34 [==============================] - 0s 1ms/step - loss: 0.4068 - accuracy: 0.8169\n",
            "Epoch 81/100\n",
            "34/34 [==============================] - 0s 1ms/step - loss: 0.4119 - accuracy: 0.8045\n",
            "Epoch 82/100\n",
            "34/34 [==============================] - 0s 1ms/step - loss: 0.4510 - accuracy: 0.8222\n",
            "Epoch 83/100\n",
            "34/34 [==============================] - 0s 1ms/step - loss: 0.4350 - accuracy: 0.7834\n",
            "Epoch 84/100\n",
            "34/34 [==============================] - 0s 1ms/step - loss: 0.4401 - accuracy: 0.7931\n",
            "Epoch 85/100\n",
            "34/34 [==============================] - 0s 1ms/step - loss: 0.4367 - accuracy: 0.7773\n",
            "Epoch 86/100\n",
            "34/34 [==============================] - 0s 1ms/step - loss: 0.4583 - accuracy: 0.7912\n",
            "Epoch 87/100\n",
            "34/34 [==============================] - 0s 2ms/step - loss: 0.4075 - accuracy: 0.7993\n",
            "Epoch 88/100\n",
            "34/34 [==============================] - 0s 2ms/step - loss: 0.4647 - accuracy: 0.7853\n",
            "Epoch 89/100\n",
            "34/34 [==============================] - 0s 1ms/step - loss: 0.4202 - accuracy: 0.8046\n",
            "Epoch 90/100\n",
            "34/34 [==============================] - 0s 1ms/step - loss: 0.4000 - accuracy: 0.7896\n",
            "Epoch 91/100\n",
            "34/34 [==============================] - 0s 1ms/step - loss: 0.4297 - accuracy: 0.7766\n",
            "Epoch 92/100\n",
            "34/34 [==============================] - 0s 1ms/step - loss: 0.4120 - accuracy: 0.7992\n",
            "Epoch 93/100\n",
            "34/34 [==============================] - 0s 1ms/step - loss: 0.4499 - accuracy: 0.7626\n",
            "Epoch 94/100\n",
            "34/34 [==============================] - 0s 1ms/step - loss: 0.3960 - accuracy: 0.8175\n",
            "Epoch 95/100\n",
            "34/34 [==============================] - 0s 1ms/step - loss: 0.4308 - accuracy: 0.7883\n",
            "Epoch 96/100\n",
            "34/34 [==============================] - 0s 2ms/step - loss: 0.4373 - accuracy: 0.7799\n",
            "Epoch 97/100\n",
            "34/34 [==============================] - 0s 1ms/step - loss: 0.4477 - accuracy: 0.7791\n",
            "Epoch 98/100\n",
            "34/34 [==============================] - 0s 1ms/step - loss: 0.4172 - accuracy: 0.7851\n",
            "Epoch 99/100\n",
            "34/34 [==============================] - 0s 1ms/step - loss: 0.4457 - accuracy: 0.7953\n",
            "Epoch 100/100\n",
            "34/34 [==============================] - 0s 1ms/step - loss: 0.4267 - accuracy: 0.7928\n"
          ],
          "name": "stdout"
        },
        {
          "output_type": "execute_result",
          "data": {
            "text/plain": [
              "<tensorflow.python.keras.callbacks.History at 0x7f1f06ac0290>"
            ]
          },
          "metadata": {
            "tags": []
          },
          "execution_count": 9
        }
      ]
    },
    {
      "cell_type": "code",
      "metadata": {
        "colab": {
          "base_uri": "https://localhost:8080/"
        },
        "id": "7GhvQK89KkUs",
        "outputId": "cc2f3a86-38c8-4f2b-8ce6-d16a6aca05f8"
      },
      "source": [
        "from sklearn.metrics import classification_report,confusion_matrix\n",
        "#egitim veri setindeki basarim\n",
        "predict_train = model.predict(X_train)\n",
        "scores_train = model.evaluate(X_train, y_train, verbose=0)\n",
        "print('Accuracy on training data: {}% \\n Error on training data: {}'.format(scores_train[1], 1 - scores_train[1]))"
      ],
      "execution_count": 10,
      "outputs": [
        {
          "output_type": "stream",
          "text": [
            "Accuracy on training data: 0.7932960987091064% \n",
            " Error on training data: 0.20670390129089355\n"
          ],
          "name": "stdout"
        }
      ]
    },
    {
      "cell_type": "code",
      "metadata": {
        "colab": {
          "base_uri": "https://localhost:8080/"
        },
        "id": "-z0Z7IXrKnkk",
        "outputId": "43ce57e9-0836-4914-d96f-2a5822b1fe83"
      },
      "source": [
        "# test veri setindeki basarim\n",
        "predict_test = model.predict(X_test)\n",
        "scores_test = model.evaluate(X_test, y_test, verbose=0)\n",
        "print('Accuracy on test data: {}% \\n Error on test data: {}'.format(scores_test[1], 1 - scores_test[1]))"
      ],
      "execution_count": 11,
      "outputs": [
        {
          "output_type": "stream",
          "text": [
            "Accuracy on test data: 0.7186146974563599% \n",
            " Error on test data: 0.28138530254364014\n"
          ],
          "name": "stdout"
        }
      ]
    }
  ]
}