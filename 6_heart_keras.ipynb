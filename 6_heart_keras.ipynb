{
  "nbformat": 4,
  "nbformat_minor": 0,
  "metadata": {
    "colab": {
      "name": "6_heart_keras.ipynb",
      "provenance": [],
      "collapsed_sections": [],
      "authorship_tag": "ABX9TyMY9Ii0AeLBm0XSTznmld/V",
      "include_colab_link": true
    },
    "kernelspec": {
      "name": "python3",
      "display_name": "Python 3"
    },
    "language_info": {
      "name": "python"
    }
  },
  "cells": [
    {
      "cell_type": "markdown",
      "metadata": {
        "id": "view-in-github",
        "colab_type": "text"
      },
      "source": [
        "<a href=\"https://colab.research.google.com/github/zekzen/dataclub/blob/main/6_heart_keras.ipynb\" target=\"_parent\"><img src=\"https://colab.research.google.com/assets/colab-badge.svg\" alt=\"Open In Colab\"/></a>"
      ]
    },
    {
      "cell_type": "code",
      "metadata": {
        "colab": {
          "base_uri": "https://localhost:8080/",
          "height": 54
        },
        "id": "zOGZM0h1K4HT",
        "outputId": "fb724ff9-748a-47d1-dd3d-a5bc08be7a58"
      },
      "source": [
        "# -*- coding: utf-8 -*-\n",
        "\"\"\"\n",
        "İU Data Klubu - Yapay Sinir Aglari Sunumu\n",
        "07.04.2021\n",
        "Author: Dr. Zeki Ozen\n",
        "\n",
        "Dataset kaynagi: UCI Heart Disease-Cleveland @ Kaggle\n",
        "Link: https://archive.ics.uci.edu/ml/machine-learning-databases/heart-disease/processed.cleveland.data\n",
        "\n",
        "Faydalanilan Notebook:  https://towardsdatascience.com/heart-disease-uci-diagnosis-prediction-b1943ee835a7\n",
        "\n",
        "\"\"\""
      ],
      "execution_count": 1,
      "outputs": [
        {
          "output_type": "execute_result",
          "data": {
            "application/vnd.google.colaboratory.intrinsic+json": {
              "type": "string"
            },
            "text/plain": [
              "'\\nİU Data Klubu - Yapay Sinir Aglari Sunumu\\n07.04.2021\\nAuthor: Dr. Zeki Ozen\\n\\nDataset kaynagi: UCI Heart Disease-Cleveland @ Kaggle\\nLink: https://archive.ics.uci.edu/ml/machine-learning-databases/heart-disease/processed.cleveland.data\\n\\nFaydalanilan Notebook:  https://towardsdatascience.com/heart-disease-uci-diagnosis-prediction-b1943ee835a7\\n\\n'"
            ]
          },
          "metadata": {
            "tags": []
          },
          "execution_count": 1
        }
      ]
    },
    {
      "cell_type": "code",
      "metadata": {
        "id": "vRvnzwjhK5jA"
      },
      "source": [
        "import pandas as pd \n",
        "import numpy as np "
      ],
      "execution_count": 3,
      "outputs": []
    },
    {
      "cell_type": "code",
      "metadata": {
        "id": "pjs_kEs2K7dE"
      },
      "source": [
        "# verisetini yukluyoruz\n",
        "data = pd.read_csv('https://raw.githubusercontent.com/zekzen/dataclub/main/heart.csv',  sep=',') "
      ],
      "execution_count": 4,
      "outputs": []
    },
    {
      "cell_type": "code",
      "metadata": {
        "colab": {
          "base_uri": "https://localhost:8080/",
          "height": 198
        },
        "id": "eSRIfszhK9EK",
        "outputId": "6d052853-439b-49c4-d207-878d56bbfa25"
      },
      "source": [
        "data.head() "
      ],
      "execution_count": 5,
      "outputs": [
        {
          "output_type": "execute_result",
          "data": {
            "text/html": [
              "<div>\n",
              "<style scoped>\n",
              "    .dataframe tbody tr th:only-of-type {\n",
              "        vertical-align: middle;\n",
              "    }\n",
              "\n",
              "    .dataframe tbody tr th {\n",
              "        vertical-align: top;\n",
              "    }\n",
              "\n",
              "    .dataframe thead th {\n",
              "        text-align: right;\n",
              "    }\n",
              "</style>\n",
              "<table border=\"1\" class=\"dataframe\">\n",
              "  <thead>\n",
              "    <tr style=\"text-align: right;\">\n",
              "      <th></th>\n",
              "      <th>age</th>\n",
              "      <th>sex</th>\n",
              "      <th>cp</th>\n",
              "      <th>trestbps</th>\n",
              "      <th>chol</th>\n",
              "      <th>fbs</th>\n",
              "      <th>restecg</th>\n",
              "      <th>thalach</th>\n",
              "      <th>exang</th>\n",
              "      <th>oldpeak</th>\n",
              "      <th>slope</th>\n",
              "      <th>ca</th>\n",
              "      <th>thal</th>\n",
              "      <th>target</th>\n",
              "    </tr>\n",
              "  </thead>\n",
              "  <tbody>\n",
              "    <tr>\n",
              "      <th>0</th>\n",
              "      <td>63</td>\n",
              "      <td>1</td>\n",
              "      <td>3</td>\n",
              "      <td>145</td>\n",
              "      <td>233</td>\n",
              "      <td>1</td>\n",
              "      <td>0</td>\n",
              "      <td>150</td>\n",
              "      <td>0</td>\n",
              "      <td>2.3</td>\n",
              "      <td>0</td>\n",
              "      <td>0</td>\n",
              "      <td>1</td>\n",
              "      <td>1</td>\n",
              "    </tr>\n",
              "    <tr>\n",
              "      <th>1</th>\n",
              "      <td>37</td>\n",
              "      <td>1</td>\n",
              "      <td>2</td>\n",
              "      <td>130</td>\n",
              "      <td>250</td>\n",
              "      <td>0</td>\n",
              "      <td>1</td>\n",
              "      <td>187</td>\n",
              "      <td>0</td>\n",
              "      <td>3.5</td>\n",
              "      <td>0</td>\n",
              "      <td>0</td>\n",
              "      <td>2</td>\n",
              "      <td>1</td>\n",
              "    </tr>\n",
              "    <tr>\n",
              "      <th>2</th>\n",
              "      <td>41</td>\n",
              "      <td>0</td>\n",
              "      <td>1</td>\n",
              "      <td>130</td>\n",
              "      <td>204</td>\n",
              "      <td>0</td>\n",
              "      <td>0</td>\n",
              "      <td>172</td>\n",
              "      <td>0</td>\n",
              "      <td>1.4</td>\n",
              "      <td>2</td>\n",
              "      <td>0</td>\n",
              "      <td>2</td>\n",
              "      <td>1</td>\n",
              "    </tr>\n",
              "    <tr>\n",
              "      <th>3</th>\n",
              "      <td>56</td>\n",
              "      <td>1</td>\n",
              "      <td>1</td>\n",
              "      <td>120</td>\n",
              "      <td>236</td>\n",
              "      <td>0</td>\n",
              "      <td>1</td>\n",
              "      <td>178</td>\n",
              "      <td>0</td>\n",
              "      <td>0.8</td>\n",
              "      <td>2</td>\n",
              "      <td>0</td>\n",
              "      <td>2</td>\n",
              "      <td>1</td>\n",
              "    </tr>\n",
              "    <tr>\n",
              "      <th>4</th>\n",
              "      <td>57</td>\n",
              "      <td>0</td>\n",
              "      <td>0</td>\n",
              "      <td>120</td>\n",
              "      <td>354</td>\n",
              "      <td>0</td>\n",
              "      <td>1</td>\n",
              "      <td>163</td>\n",
              "      <td>1</td>\n",
              "      <td>0.6</td>\n",
              "      <td>2</td>\n",
              "      <td>0</td>\n",
              "      <td>2</td>\n",
              "      <td>1</td>\n",
              "    </tr>\n",
              "  </tbody>\n",
              "</table>\n",
              "</div>"
            ],
            "text/plain": [
              "   age  sex  cp  trestbps  chol  fbs  ...  exang  oldpeak  slope  ca  thal  target\n",
              "0   63    1   3       145   233    1  ...      0      2.3      0   0     1       1\n",
              "1   37    1   2       130   250    0  ...      0      3.5      0   0     2       1\n",
              "2   41    0   1       130   204    0  ...      0      1.4      2   0     2       1\n",
              "3   56    1   1       120   236    0  ...      0      0.8      2   0     2       1\n",
              "4   57    0   0       120   354    0  ...      1      0.6      2   0     2       1\n",
              "\n",
              "[5 rows x 14 columns]"
            ]
          },
          "metadata": {
            "tags": []
          },
          "execution_count": 5
        }
      ]
    },
    {
      "cell_type": "code",
      "metadata": {
        "colab": {
          "base_uri": "https://localhost:8080/",
          "height": 288
        },
        "id": "z5tapVhSLBSv",
        "outputId": "d78a261a-bec2-44bc-e1dd-85aed6bba1bd"
      },
      "source": [
        "data.describe() "
      ],
      "execution_count": 6,
      "outputs": [
        {
          "output_type": "execute_result",
          "data": {
            "text/html": [
              "<div>\n",
              "<style scoped>\n",
              "    .dataframe tbody tr th:only-of-type {\n",
              "        vertical-align: middle;\n",
              "    }\n",
              "\n",
              "    .dataframe tbody tr th {\n",
              "        vertical-align: top;\n",
              "    }\n",
              "\n",
              "    .dataframe thead th {\n",
              "        text-align: right;\n",
              "    }\n",
              "</style>\n",
              "<table border=\"1\" class=\"dataframe\">\n",
              "  <thead>\n",
              "    <tr style=\"text-align: right;\">\n",
              "      <th></th>\n",
              "      <th>age</th>\n",
              "      <th>sex</th>\n",
              "      <th>cp</th>\n",
              "      <th>trestbps</th>\n",
              "      <th>chol</th>\n",
              "      <th>fbs</th>\n",
              "      <th>restecg</th>\n",
              "      <th>thalach</th>\n",
              "      <th>exang</th>\n",
              "      <th>oldpeak</th>\n",
              "      <th>slope</th>\n",
              "      <th>ca</th>\n",
              "      <th>thal</th>\n",
              "      <th>target</th>\n",
              "    </tr>\n",
              "  </thead>\n",
              "  <tbody>\n",
              "    <tr>\n",
              "      <th>count</th>\n",
              "      <td>303.000000</td>\n",
              "      <td>303.000000</td>\n",
              "      <td>303.000000</td>\n",
              "      <td>303.000000</td>\n",
              "      <td>303.000000</td>\n",
              "      <td>303.000000</td>\n",
              "      <td>303.000000</td>\n",
              "      <td>303.000000</td>\n",
              "      <td>303.000000</td>\n",
              "      <td>303.000000</td>\n",
              "      <td>303.000000</td>\n",
              "      <td>303.000000</td>\n",
              "      <td>303.000000</td>\n",
              "      <td>303.000000</td>\n",
              "    </tr>\n",
              "    <tr>\n",
              "      <th>mean</th>\n",
              "      <td>54.366337</td>\n",
              "      <td>0.683168</td>\n",
              "      <td>0.966997</td>\n",
              "      <td>131.623762</td>\n",
              "      <td>246.264026</td>\n",
              "      <td>0.148515</td>\n",
              "      <td>0.528053</td>\n",
              "      <td>149.646865</td>\n",
              "      <td>0.326733</td>\n",
              "      <td>1.039604</td>\n",
              "      <td>1.399340</td>\n",
              "      <td>0.729373</td>\n",
              "      <td>2.313531</td>\n",
              "      <td>0.544554</td>\n",
              "    </tr>\n",
              "    <tr>\n",
              "      <th>std</th>\n",
              "      <td>9.082101</td>\n",
              "      <td>0.466011</td>\n",
              "      <td>1.032052</td>\n",
              "      <td>17.538143</td>\n",
              "      <td>51.830751</td>\n",
              "      <td>0.356198</td>\n",
              "      <td>0.525860</td>\n",
              "      <td>22.905161</td>\n",
              "      <td>0.469794</td>\n",
              "      <td>1.161075</td>\n",
              "      <td>0.616226</td>\n",
              "      <td>1.022606</td>\n",
              "      <td>0.612277</td>\n",
              "      <td>0.498835</td>\n",
              "    </tr>\n",
              "    <tr>\n",
              "      <th>min</th>\n",
              "      <td>29.000000</td>\n",
              "      <td>0.000000</td>\n",
              "      <td>0.000000</td>\n",
              "      <td>94.000000</td>\n",
              "      <td>126.000000</td>\n",
              "      <td>0.000000</td>\n",
              "      <td>0.000000</td>\n",
              "      <td>71.000000</td>\n",
              "      <td>0.000000</td>\n",
              "      <td>0.000000</td>\n",
              "      <td>0.000000</td>\n",
              "      <td>0.000000</td>\n",
              "      <td>0.000000</td>\n",
              "      <td>0.000000</td>\n",
              "    </tr>\n",
              "    <tr>\n",
              "      <th>25%</th>\n",
              "      <td>47.500000</td>\n",
              "      <td>0.000000</td>\n",
              "      <td>0.000000</td>\n",
              "      <td>120.000000</td>\n",
              "      <td>211.000000</td>\n",
              "      <td>0.000000</td>\n",
              "      <td>0.000000</td>\n",
              "      <td>133.500000</td>\n",
              "      <td>0.000000</td>\n",
              "      <td>0.000000</td>\n",
              "      <td>1.000000</td>\n",
              "      <td>0.000000</td>\n",
              "      <td>2.000000</td>\n",
              "      <td>0.000000</td>\n",
              "    </tr>\n",
              "    <tr>\n",
              "      <th>50%</th>\n",
              "      <td>55.000000</td>\n",
              "      <td>1.000000</td>\n",
              "      <td>1.000000</td>\n",
              "      <td>130.000000</td>\n",
              "      <td>240.000000</td>\n",
              "      <td>0.000000</td>\n",
              "      <td>1.000000</td>\n",
              "      <td>153.000000</td>\n",
              "      <td>0.000000</td>\n",
              "      <td>0.800000</td>\n",
              "      <td>1.000000</td>\n",
              "      <td>0.000000</td>\n",
              "      <td>2.000000</td>\n",
              "      <td>1.000000</td>\n",
              "    </tr>\n",
              "    <tr>\n",
              "      <th>75%</th>\n",
              "      <td>61.000000</td>\n",
              "      <td>1.000000</td>\n",
              "      <td>2.000000</td>\n",
              "      <td>140.000000</td>\n",
              "      <td>274.500000</td>\n",
              "      <td>0.000000</td>\n",
              "      <td>1.000000</td>\n",
              "      <td>166.000000</td>\n",
              "      <td>1.000000</td>\n",
              "      <td>1.600000</td>\n",
              "      <td>2.000000</td>\n",
              "      <td>1.000000</td>\n",
              "      <td>3.000000</td>\n",
              "      <td>1.000000</td>\n",
              "    </tr>\n",
              "    <tr>\n",
              "      <th>max</th>\n",
              "      <td>77.000000</td>\n",
              "      <td>1.000000</td>\n",
              "      <td>3.000000</td>\n",
              "      <td>200.000000</td>\n",
              "      <td>564.000000</td>\n",
              "      <td>1.000000</td>\n",
              "      <td>2.000000</td>\n",
              "      <td>202.000000</td>\n",
              "      <td>1.000000</td>\n",
              "      <td>6.200000</td>\n",
              "      <td>2.000000</td>\n",
              "      <td>4.000000</td>\n",
              "      <td>3.000000</td>\n",
              "      <td>1.000000</td>\n",
              "    </tr>\n",
              "  </tbody>\n",
              "</table>\n",
              "</div>"
            ],
            "text/plain": [
              "              age         sex          cp  ...          ca        thal      target\n",
              "count  303.000000  303.000000  303.000000  ...  303.000000  303.000000  303.000000\n",
              "mean    54.366337    0.683168    0.966997  ...    0.729373    2.313531    0.544554\n",
              "std      9.082101    0.466011    1.032052  ...    1.022606    0.612277    0.498835\n",
              "min     29.000000    0.000000    0.000000  ...    0.000000    0.000000    0.000000\n",
              "25%     47.500000    0.000000    0.000000  ...    0.000000    2.000000    0.000000\n",
              "50%     55.000000    1.000000    1.000000  ...    0.000000    2.000000    1.000000\n",
              "75%     61.000000    1.000000    2.000000  ...    1.000000    3.000000    1.000000\n",
              "max     77.000000    1.000000    3.000000  ...    4.000000    3.000000    1.000000\n",
              "\n",
              "[8 rows x 14 columns]"
            ]
          },
          "metadata": {
            "tags": []
          },
          "execution_count": 6
        }
      ]
    },
    {
      "cell_type": "code",
      "metadata": {
        "colab": {
          "base_uri": "https://localhost:8080/"
        },
        "id": "QVCZpIbrLCol",
        "outputId": "001e9b86-bddf-48f9-f463-0cb3d03c467a"
      },
      "source": [
        "data.info()"
      ],
      "execution_count": 7,
      "outputs": [
        {
          "output_type": "stream",
          "text": [
            "<class 'pandas.core.frame.DataFrame'>\n",
            "RangeIndex: 303 entries, 0 to 302\n",
            "Data columns (total 14 columns):\n",
            " #   Column    Non-Null Count  Dtype  \n",
            "---  ------    --------------  -----  \n",
            " 0   age       303 non-null    int64  \n",
            " 1   sex       303 non-null    int64  \n",
            " 2   cp        303 non-null    int64  \n",
            " 3   trestbps  303 non-null    int64  \n",
            " 4   chol      303 non-null    int64  \n",
            " 5   fbs       303 non-null    int64  \n",
            " 6   restecg   303 non-null    int64  \n",
            " 7   thalach   303 non-null    int64  \n",
            " 8   exang     303 non-null    int64  \n",
            " 9   oldpeak   303 non-null    float64\n",
            " 10  slope     303 non-null    int64  \n",
            " 11  ca        303 non-null    int64  \n",
            " 12  thal      303 non-null    int64  \n",
            " 13  target    303 non-null    int64  \n",
            "dtypes: float64(1), int64(13)\n",
            "memory usage: 33.3 KB\n"
          ],
          "name": "stdout"
        }
      ]
    },
    {
      "cell_type": "code",
      "metadata": {
        "id": "xw8iNBiuLDNJ"
      },
      "source": [
        "\"\"\"\n",
        "•    age: yas\n",
        "•    sex: cinsiyet (1 = erkek, 0 = kadin)\n",
        "•    cp: Göğüs ağrısı tipi\n",
        "•    trestbps: Dinlenme durumunda kan basıncı (tansiyon) (mm Hg hastaneye kabulde)\n",
        "•    chol: kolesterol  (mg/dl)\n",
        "•    fbs: Tokluk şekeri düzeyi (> 120 mg/dl, 1 = true; 0 = false)\n",
        "•    restecg: Dinlenme durumunda Elektrokardiyografı düzeyi\n",
        "•    thalach: Maksimum kalp atış ritim tipi\n",
        "•    exang: Egzersiz ile oluşan göğüs ağrısı (1 = yes; 0 = no)\n",
        "•    oldpeak: Dinlenme durumunda ST değeri ('ST' relates to positions on the ECG plot. See more here)\n",
        "•    slope: Pik egzersiz durumunda ST segmentinin eğimi\n",
        "•    ca: Büyük damarların sayısı (0-3)\n",
        "•    thal: thalassemia tipi\n",
        "•    target: Kalp hastalığı (0 = no, 1 = yes)\n",
        "\n",
        "\n",
        "\n",
        "cp: chest pain type\n",
        "-- Value 0: asymptomatic\n",
        "-- Value 1: atypical angina\n",
        "-- Value 2: non-anginal pain\n",
        "-- Value 3: typical angina\n",
        " \n",
        "restecg: resting electrocardiographic results\n",
        "-- Value 0: showing probable or definite left ventricular hypertrophy by Estes' criteria\n",
        "-- Value 1: normal\n",
        "-- Value 2: having ST-T wave abnormality (T wave inversions and/or ST elevation or depression of > 0.05 mV)\n",
        " \n",
        "slope: the slope of the peak exercise ST segment\n",
        "0: downsloping; 1: flat; 2: upsloping\n",
        " \n",
        "thal\n",
        "Results of the blood flow observed via the radioactive dye.\n",
        " \n",
        "Value 0: NULL (dropped from the dataset previously)\n",
        "Value 1: fixed defect (no blood flow in some part of the heart)\n",
        "Value 2: normal blood flow\n",
        "Value 3: reversible defect (a blood flow is observed but it is not normal)\n",
        "\n",
        "\"\"\""
      ],
      "execution_count": null,
      "outputs": []
    },
    {
      "cell_type": "code",
      "metadata": {
        "id": "LIFVlrakLHAl"
      },
      "source": [
        "# Bagimli ve bagimsiz degiskenlerimizi ayiralim\n",
        "X = data.iloc[:,:-1]\n",
        "y = data.iloc[:,-1]"
      ],
      "execution_count": 8,
      "outputs": []
    },
    {
      "cell_type": "code",
      "metadata": {
        "colab": {
          "base_uri": "https://localhost:8080/"
        },
        "id": "oDObLGAbLI56",
        "outputId": "82860fc1-b5fd-4260-af26-efc89d7db1f3"
      },
      "source": [
        "# hedef niteligik sinif sayilarina bakiliyor\n",
        "print(y.value_counts())\n",
        "print(\"Target Class Size:\", y.value_counts(\"0\"))"
      ],
      "execution_count": 9,
      "outputs": [
        {
          "output_type": "stream",
          "text": [
            "1    165\n",
            "0    138\n",
            "Name: target, dtype: int64\n",
            "Target Class Size: 1    0.544554\n",
            "0    0.455446\n",
            "Name: target, dtype: float64\n"
          ],
          "name": "stdout"
        }
      ]
    },
    {
      "cell_type": "code",
      "metadata": {
        "id": "dqGPmgN9LK3U"
      },
      "source": [
        "# Egitim ve test veri setlerimizi %70 egitim, %30 test olacak sekilde ayiralim\n",
        "# Egitim ve test verisetinde sinif dagilimini korumasini stratify parametresi ile sagliyoruz\n",
        "from sklearn.model_selection import train_test_split\n",
        "X_train,X_test,y_train, y_test = train_test_split(X, y, test_size = 0.3,  \n",
        "                                                 # stratify=y, \n",
        "                                                  random_state = 42) "
      ],
      "execution_count": 10,
      "outputs": []
    },
    {
      "cell_type": "code",
      "metadata": {
        "colab": {
          "base_uri": "https://localhost:8080/"
        },
        "id": "kIKYR45fLNVF",
        "outputId": "f1464bf6-99b8-4755-fa9b-f78bb47529a1"
      },
      "source": [
        "print(y_train.value_counts(\"0\"))\n",
        "print(y_test.value_counts(\"0\"))"
      ],
      "execution_count": 11,
      "outputs": [
        {
          "output_type": "stream",
          "text": [
            "1    0.542453\n",
            "0    0.457547\n",
            "Name: target, dtype: float64\n",
            "1    0.549451\n",
            "0    0.450549\n",
            "Name: target, dtype: float64\n"
          ],
          "name": "stdout"
        }
      ]
    },
    {
      "cell_type": "code",
      "metadata": {
        "colab": {
          "base_uri": "https://localhost:8080/"
        },
        "id": "r78rPEEWLO_J",
        "outputId": "32c18d12-32cf-4eb0-a39a-2e9b3685622d"
      },
      "source": [
        "#Bagimli nitelikleri Standart normalizasyon yontemiyle normalize ediyoruz\n",
        "#from sklearn.preprocessing import MinMaxScaler\n",
        "from sklearn.preprocessing import StandardScaler\n",
        "#numerik degiskenler \n",
        "numerik_nit = ['age', 'trestbps', 'chol','thalach','oldpeak']\n",
        "scaler=StandardScaler()\n",
        "scaler.fit(X_train[numerik_nit])\n",
        "X_train[numerik_nit] = scaler.transform(X_train[numerik_nit])\n",
        "X_test[numerik_nit] = scaler.transform(X_test[numerik_nit])"
      ],
      "execution_count": 12,
      "outputs": [
        {
          "output_type": "stream",
          "text": [
            "/usr/local/lib/python3.7/dist-packages/ipykernel_launcher.py:8: SettingWithCopyWarning: \n",
            "A value is trying to be set on a copy of a slice from a DataFrame.\n",
            "Try using .loc[row_indexer,col_indexer] = value instead\n",
            "\n",
            "See the caveats in the documentation: https://pandas.pydata.org/pandas-docs/stable/user_guide/indexing.html#returning-a-view-versus-a-copy\n",
            "  \n",
            "/usr/local/lib/python3.7/dist-packages/pandas/core/indexing.py:1734: SettingWithCopyWarning: \n",
            "A value is trying to be set on a copy of a slice from a DataFrame.\n",
            "Try using .loc[row_indexer,col_indexer] = value instead\n",
            "\n",
            "See the caveats in the documentation: https://pandas.pydata.org/pandas-docs/stable/user_guide/indexing.html#returning-a-view-versus-a-copy\n",
            "  isetter(loc, value[:, i].tolist())\n",
            "/usr/local/lib/python3.7/dist-packages/ipykernel_launcher.py:9: SettingWithCopyWarning: \n",
            "A value is trying to be set on a copy of a slice from a DataFrame.\n",
            "Try using .loc[row_indexer,col_indexer] = value instead\n",
            "\n",
            "See the caveats in the documentation: https://pandas.pydata.org/pandas-docs/stable/user_guide/indexing.html#returning-a-view-versus-a-copy\n",
            "  if __name__ == '__main__':\n",
            "/usr/local/lib/python3.7/dist-packages/pandas/core/indexing.py:1734: SettingWithCopyWarning: \n",
            "A value is trying to be set on a copy of a slice from a DataFrame.\n",
            "Try using .loc[row_indexer,col_indexer] = value instead\n",
            "\n",
            "See the caveats in the documentation: https://pandas.pydata.org/pandas-docs/stable/user_guide/indexing.html#returning-a-view-versus-a-copy\n",
            "  isetter(loc, value[:, i].tolist())\n"
          ],
          "name": "stderr"
        }
      ]
    },
    {
      "cell_type": "code",
      "metadata": {
        "id": "HnyMkaacLTAy"
      },
      "source": [
        "#bagimli kategorik degiskenler one-hot-encoding yontemi ile kategorik formata donusturuluyor\n",
        "X_train = pd.get_dummies( X_train, columns= ['sex', 'cp',  'fbs',  'restecg', 'exang', 'slope', 'ca', 'thal'], drop_first=True)\n",
        "X_test = pd.get_dummies( X_test, columns= ['sex', 'cp',  'fbs',  'restecg', 'exang', 'slope', 'ca', 'thal'], drop_first=True)"
      ],
      "execution_count": 13,
      "outputs": []
    },
    {
      "cell_type": "code",
      "metadata": {
        "id": "LBvuC0rsLUup"
      },
      "source": [
        "# ysa icin kullanacagimiz tenserflow ve keras kutuphanelerini \n",
        "# calisma ortamimiza dahil edelim\n",
        "import tensorflow as tf \n",
        "from tensorflow.keras.models import Sequential \n",
        "from tensorflow.keras.layers import Dense \n",
        "from sklearn.metrics import confusion_matrix"
      ],
      "execution_count": 14,
      "outputs": []
    },
    {
      "cell_type": "code",
      "metadata": {
        "id": "6KHTtvY_LaLR"
      },
      "source": [
        "# Cok katmanli modelimizin mimarisini yapilandiriyoruz\n",
        "# 22-15-10-1 katmandaki noron sayilarimiz\n",
        "classifier = Sequential()\n",
        "\n",
        "# girdi katmanimiz yapilandiriliyor\n",
        "classifier.add(Dense(activation = \"relu\",\n",
        "                     input_dim = X_train.shape[1],\n",
        "                     units = 15, \n",
        "                     kernel_initializer = \"uniform\")) \n",
        "\n",
        "# gizli katmanimiz yapilandiriliyor\n",
        "classifier.add(Dense(activation = \"relu\", \n",
        "                     units = 10,\n",
        "                     kernel_initializer = \"uniform\"))  # kernel_initializer = \"normal\"\n",
        "\n",
        "# cikti katmanimiz yapilandiriliyor\n",
        "classifier.add(Dense(activation = \"sigmoid\", \n",
        "                     units = 1, # burasinin 1 olmasi muhim\n",
        "                     kernel_initializer = \"uniform\")) \n",
        "\n",
        "# model olusturuluyor\n",
        "classifier.compile(optimizer = 'adam' , \n",
        "                   loss = 'binary_crossentropy', \n",
        "                   metrics = ['accuracy'] ) "
      ],
      "execution_count": 15,
      "outputs": []
    },
    {
      "cell_type": "code",
      "metadata": {
        "colab": {
          "base_uri": "https://localhost:8080/"
        },
        "id": "2Q1E93dILdZ1",
        "outputId": "1c1d6f30-66d1-4f26-e3e3-c2f57a9a155b"
      },
      "source": [
        "#############################\n",
        "# modelimizi egitelim       #\n",
        "#############################\n",
        "\n",
        "output = classifier.fit(X_train, y_train, \n",
        "               batch_size = 8,\n",
        "               epochs = 100,\n",
        "               validation_split=0.2,\n",
        "               )"
      ],
      "execution_count": 16,
      "outputs": [
        {
          "output_type": "stream",
          "text": [
            "Epoch 1/100\n",
            "22/22 [==============================] - 1s 27ms/step - loss: 0.6929 - accuracy: 0.5769 - val_loss: 0.6922 - val_accuracy: 0.5116\n",
            "Epoch 2/100\n",
            "22/22 [==============================] - 0s 4ms/step - loss: 0.6914 - accuracy: 0.5479 - val_loss: 0.6890 - val_accuracy: 0.5116\n",
            "Epoch 3/100\n",
            "22/22 [==============================] - 0s 4ms/step - loss: 0.6853 - accuracy: 0.5969 - val_loss: 0.6780 - val_accuracy: 0.7674\n",
            "Epoch 4/100\n",
            "22/22 [==============================] - 0s 4ms/step - loss: 0.6691 - accuracy: 0.7713 - val_loss: 0.6526 - val_accuracy: 0.7209\n",
            "Epoch 5/100\n",
            "22/22 [==============================] - 0s 4ms/step - loss: 0.6227 - accuracy: 0.7822 - val_loss: 0.6166 - val_accuracy: 0.7442\n",
            "Epoch 6/100\n",
            "22/22 [==============================] - 0s 4ms/step - loss: 0.5473 - accuracy: 0.8421 - val_loss: 0.5786 - val_accuracy: 0.7442\n",
            "Epoch 7/100\n",
            "22/22 [==============================] - 0s 4ms/step - loss: 0.5451 - accuracy: 0.7274 - val_loss: 0.5462 - val_accuracy: 0.7209\n",
            "Epoch 8/100\n",
            "22/22 [==============================] - 0s 4ms/step - loss: 0.4656 - accuracy: 0.8519 - val_loss: 0.5131 - val_accuracy: 0.6744\n",
            "Epoch 9/100\n",
            "22/22 [==============================] - 0s 4ms/step - loss: 0.4946 - accuracy: 0.7847 - val_loss: 0.4936 - val_accuracy: 0.6744\n",
            "Epoch 10/100\n",
            "22/22 [==============================] - 0s 4ms/step - loss: 0.4089 - accuracy: 0.8575 - val_loss: 0.4781 - val_accuracy: 0.7209\n",
            "Epoch 11/100\n",
            "22/22 [==============================] - 0s 4ms/step - loss: 0.4259 - accuracy: 0.8309 - val_loss: 0.4684 - val_accuracy: 0.7442\n",
            "Epoch 12/100\n",
            "22/22 [==============================] - 0s 3ms/step - loss: 0.3926 - accuracy: 0.8726 - val_loss: 0.4623 - val_accuracy: 0.7442\n",
            "Epoch 13/100\n",
            "22/22 [==============================] - 0s 4ms/step - loss: 0.3648 - accuracy: 0.8473 - val_loss: 0.4610 - val_accuracy: 0.7442\n",
            "Epoch 14/100\n",
            "22/22 [==============================] - 0s 4ms/step - loss: 0.3701 - accuracy: 0.8362 - val_loss: 0.4589 - val_accuracy: 0.7674\n",
            "Epoch 15/100\n",
            "22/22 [==============================] - 0s 4ms/step - loss: 0.3327 - accuracy: 0.8713 - val_loss: 0.4603 - val_accuracy: 0.7674\n",
            "Epoch 16/100\n",
            "22/22 [==============================] - 0s 4ms/step - loss: 0.2929 - accuracy: 0.9067 - val_loss: 0.4562 - val_accuracy: 0.7674\n",
            "Epoch 17/100\n",
            "22/22 [==============================] - 0s 4ms/step - loss: 0.3592 - accuracy: 0.8474 - val_loss: 0.4623 - val_accuracy: 0.7674\n",
            "Epoch 18/100\n",
            "22/22 [==============================] - 0s 3ms/step - loss: 0.3235 - accuracy: 0.8614 - val_loss: 0.4548 - val_accuracy: 0.7674\n",
            "Epoch 19/100\n",
            "22/22 [==============================] - 0s 3ms/step - loss: 0.3213 - accuracy: 0.8627 - val_loss: 0.4526 - val_accuracy: 0.7674\n",
            "Epoch 20/100\n",
            "22/22 [==============================] - 0s 4ms/step - loss: 0.2521 - accuracy: 0.8877 - val_loss: 0.4522 - val_accuracy: 0.7674\n",
            "Epoch 21/100\n",
            "22/22 [==============================] - 0s 3ms/step - loss: 0.2773 - accuracy: 0.8791 - val_loss: 0.4469 - val_accuracy: 0.7674\n",
            "Epoch 22/100\n",
            "22/22 [==============================] - 0s 4ms/step - loss: 0.2875 - accuracy: 0.8590 - val_loss: 0.4515 - val_accuracy: 0.7674\n",
            "Epoch 23/100\n",
            "22/22 [==============================] - 0s 4ms/step - loss: 0.2591 - accuracy: 0.8979 - val_loss: 0.4488 - val_accuracy: 0.7674\n",
            "Epoch 24/100\n",
            "22/22 [==============================] - 0s 4ms/step - loss: 0.2813 - accuracy: 0.8644 - val_loss: 0.4452 - val_accuracy: 0.7442\n",
            "Epoch 25/100\n",
            "22/22 [==============================] - 0s 4ms/step - loss: 0.2482 - accuracy: 0.8655 - val_loss: 0.4440 - val_accuracy: 0.7674\n",
            "Epoch 26/100\n",
            "22/22 [==============================] - 0s 4ms/step - loss: 0.2658 - accuracy: 0.8989 - val_loss: 0.4416 - val_accuracy: 0.7674\n",
            "Epoch 27/100\n",
            "22/22 [==============================] - 0s 4ms/step - loss: 0.3341 - accuracy: 0.8650 - val_loss: 0.4194 - val_accuracy: 0.7674\n",
            "Epoch 28/100\n",
            "22/22 [==============================] - 0s 4ms/step - loss: 0.2235 - accuracy: 0.9062 - val_loss: 0.4294 - val_accuracy: 0.7674\n",
            "Epoch 29/100\n",
            "22/22 [==============================] - 0s 4ms/step - loss: 0.2770 - accuracy: 0.8808 - val_loss: 0.4351 - val_accuracy: 0.7674\n",
            "Epoch 30/100\n",
            "22/22 [==============================] - 0s 4ms/step - loss: 0.3038 - accuracy: 0.8675 - val_loss: 0.4354 - val_accuracy: 0.7674\n",
            "Epoch 31/100\n",
            "22/22 [==============================] - 0s 4ms/step - loss: 0.2939 - accuracy: 0.8510 - val_loss: 0.4253 - val_accuracy: 0.7674\n",
            "Epoch 32/100\n",
            "22/22 [==============================] - 0s 4ms/step - loss: 0.2887 - accuracy: 0.8865 - val_loss: 0.4334 - val_accuracy: 0.7674\n",
            "Epoch 33/100\n",
            "22/22 [==============================] - 0s 4ms/step - loss: 0.2528 - accuracy: 0.9030 - val_loss: 0.4284 - val_accuracy: 0.7674\n",
            "Epoch 34/100\n",
            "22/22 [==============================] - 0s 4ms/step - loss: 0.3342 - accuracy: 0.8576 - val_loss: 0.4282 - val_accuracy: 0.7674\n",
            "Epoch 35/100\n",
            "22/22 [==============================] - 0s 4ms/step - loss: 0.2751 - accuracy: 0.8882 - val_loss: 0.4341 - val_accuracy: 0.7674\n",
            "Epoch 36/100\n",
            "22/22 [==============================] - 0s 4ms/step - loss: 0.2965 - accuracy: 0.8642 - val_loss: 0.4373 - val_accuracy: 0.7674\n",
            "Epoch 37/100\n",
            "22/22 [==============================] - 0s 4ms/step - loss: 0.2729 - accuracy: 0.9125 - val_loss: 0.4373 - val_accuracy: 0.7674\n",
            "Epoch 38/100\n",
            "22/22 [==============================] - 0s 4ms/step - loss: 0.2909 - accuracy: 0.8414 - val_loss: 0.4404 - val_accuracy: 0.7907\n",
            "Epoch 39/100\n",
            "22/22 [==============================] - 0s 4ms/step - loss: 0.2412 - accuracy: 0.9149 - val_loss: 0.4458 - val_accuracy: 0.7907\n",
            "Epoch 40/100\n",
            "22/22 [==============================] - 0s 4ms/step - loss: 0.2131 - accuracy: 0.8876 - val_loss: 0.4288 - val_accuracy: 0.7907\n",
            "Epoch 41/100\n",
            "22/22 [==============================] - 0s 3ms/step - loss: 0.2428 - accuracy: 0.9098 - val_loss: 0.4325 - val_accuracy: 0.7907\n",
            "Epoch 42/100\n",
            "22/22 [==============================] - 0s 4ms/step - loss: 0.2143 - accuracy: 0.9332 - val_loss: 0.4320 - val_accuracy: 0.7907\n",
            "Epoch 43/100\n",
            "22/22 [==============================] - 0s 4ms/step - loss: 0.2282 - accuracy: 0.9170 - val_loss: 0.4360 - val_accuracy: 0.7907\n",
            "Epoch 44/100\n",
            "22/22 [==============================] - 0s 4ms/step - loss: 0.2587 - accuracy: 0.8949 - val_loss: 0.4366 - val_accuracy: 0.7907\n",
            "Epoch 45/100\n",
            "22/22 [==============================] - 0s 4ms/step - loss: 0.2648 - accuracy: 0.8869 - val_loss: 0.4426 - val_accuracy: 0.7907\n",
            "Epoch 46/100\n",
            "22/22 [==============================] - 0s 4ms/step - loss: 0.2320 - accuracy: 0.8983 - val_loss: 0.4458 - val_accuracy: 0.7907\n",
            "Epoch 47/100\n",
            "22/22 [==============================] - 0s 4ms/step - loss: 0.2422 - accuracy: 0.8933 - val_loss: 0.4489 - val_accuracy: 0.7907\n",
            "Epoch 48/100\n",
            "22/22 [==============================] - 0s 4ms/step - loss: 0.2361 - accuracy: 0.8945 - val_loss: 0.4530 - val_accuracy: 0.7907\n",
            "Epoch 49/100\n",
            "22/22 [==============================] - 0s 4ms/step - loss: 0.2560 - accuracy: 0.9102 - val_loss: 0.4539 - val_accuracy: 0.7907\n",
            "Epoch 50/100\n",
            "22/22 [==============================] - 0s 4ms/step - loss: 0.2073 - accuracy: 0.8988 - val_loss: 0.4590 - val_accuracy: 0.7907\n",
            "Epoch 51/100\n",
            "22/22 [==============================] - 0s 4ms/step - loss: 0.2072 - accuracy: 0.9263 - val_loss: 0.4713 - val_accuracy: 0.7907\n",
            "Epoch 52/100\n",
            "22/22 [==============================] - 0s 3ms/step - loss: 0.2691 - accuracy: 0.8762 - val_loss: 0.4602 - val_accuracy: 0.7907\n",
            "Epoch 53/100\n",
            "22/22 [==============================] - 0s 4ms/step - loss: 0.2118 - accuracy: 0.8875 - val_loss: 0.4592 - val_accuracy: 0.7907\n",
            "Epoch 54/100\n",
            "22/22 [==============================] - 0s 4ms/step - loss: 0.2218 - accuracy: 0.8795 - val_loss: 0.4620 - val_accuracy: 0.7907\n",
            "Epoch 55/100\n",
            "22/22 [==============================] - 0s 4ms/step - loss: 0.2154 - accuracy: 0.9018 - val_loss: 0.4639 - val_accuracy: 0.7907\n",
            "Epoch 56/100\n",
            "22/22 [==============================] - 0s 4ms/step - loss: 0.1902 - accuracy: 0.9242 - val_loss: 0.4600 - val_accuracy: 0.7907\n",
            "Epoch 57/100\n",
            "22/22 [==============================] - 0s 4ms/step - loss: 0.2206 - accuracy: 0.8946 - val_loss: 0.4613 - val_accuracy: 0.7907\n",
            "Epoch 58/100\n",
            "22/22 [==============================] - 0s 4ms/step - loss: 0.1967 - accuracy: 0.9153 - val_loss: 0.4630 - val_accuracy: 0.7907\n",
            "Epoch 59/100\n",
            "22/22 [==============================] - 0s 4ms/step - loss: 0.2718 - accuracy: 0.8831 - val_loss: 0.4598 - val_accuracy: 0.7907\n",
            "Epoch 60/100\n",
            "22/22 [==============================] - 0s 4ms/step - loss: 0.2529 - accuracy: 0.8791 - val_loss: 0.4650 - val_accuracy: 0.7907\n",
            "Epoch 61/100\n",
            "22/22 [==============================] - 0s 4ms/step - loss: 0.2143 - accuracy: 0.9251 - val_loss: 0.4680 - val_accuracy: 0.7907\n",
            "Epoch 62/100\n",
            "22/22 [==============================] - 0s 4ms/step - loss: 0.2747 - accuracy: 0.8501 - val_loss: 0.4721 - val_accuracy: 0.7907\n",
            "Epoch 63/100\n",
            "22/22 [==============================] - 0s 4ms/step - loss: 0.1978 - accuracy: 0.9065 - val_loss: 0.4782 - val_accuracy: 0.7907\n",
            "Epoch 64/100\n",
            "22/22 [==============================] - 0s 4ms/step - loss: 0.2023 - accuracy: 0.9189 - val_loss: 0.4723 - val_accuracy: 0.7907\n",
            "Epoch 65/100\n",
            "22/22 [==============================] - 0s 4ms/step - loss: 0.2515 - accuracy: 0.8990 - val_loss: 0.4712 - val_accuracy: 0.7907\n",
            "Epoch 66/100\n",
            "22/22 [==============================] - 0s 4ms/step - loss: 0.2237 - accuracy: 0.9243 - val_loss: 0.4788 - val_accuracy: 0.7907\n",
            "Epoch 67/100\n",
            "22/22 [==============================] - 0s 4ms/step - loss: 0.2338 - accuracy: 0.8934 - val_loss: 0.4998 - val_accuracy: 0.7907\n",
            "Epoch 68/100\n",
            "22/22 [==============================] - 0s 4ms/step - loss: 0.2266 - accuracy: 0.8994 - val_loss: 0.4936 - val_accuracy: 0.7907\n",
            "Epoch 69/100\n",
            "22/22 [==============================] - 0s 4ms/step - loss: 0.1959 - accuracy: 0.9195 - val_loss: 0.4895 - val_accuracy: 0.7907\n",
            "Epoch 70/100\n",
            "22/22 [==============================] - 0s 4ms/step - loss: 0.2373 - accuracy: 0.8886 - val_loss: 0.4936 - val_accuracy: 0.7907\n",
            "Epoch 71/100\n",
            "22/22 [==============================] - 0s 4ms/step - loss: 0.2562 - accuracy: 0.9088 - val_loss: 0.4932 - val_accuracy: 0.7907\n",
            "Epoch 72/100\n",
            "22/22 [==============================] - 0s 4ms/step - loss: 0.2116 - accuracy: 0.9226 - val_loss: 0.4892 - val_accuracy: 0.7907\n",
            "Epoch 73/100\n",
            "22/22 [==============================] - 0s 4ms/step - loss: 0.1666 - accuracy: 0.9516 - val_loss: 0.4956 - val_accuracy: 0.7907\n",
            "Epoch 74/100\n",
            "22/22 [==============================] - 0s 4ms/step - loss: 0.2077 - accuracy: 0.9119 - val_loss: 0.4845 - val_accuracy: 0.7674\n",
            "Epoch 75/100\n",
            "22/22 [==============================] - 0s 4ms/step - loss: 0.2563 - accuracy: 0.8998 - val_loss: 0.4907 - val_accuracy: 0.7674\n",
            "Epoch 76/100\n",
            "22/22 [==============================] - 0s 4ms/step - loss: 0.2093 - accuracy: 0.8923 - val_loss: 0.4971 - val_accuracy: 0.7907\n",
            "Epoch 77/100\n",
            "22/22 [==============================] - 0s 4ms/step - loss: 0.1818 - accuracy: 0.9404 - val_loss: 0.4963 - val_accuracy: 0.7907\n",
            "Epoch 78/100\n",
            "22/22 [==============================] - 0s 4ms/step - loss: 0.2005 - accuracy: 0.9091 - val_loss: 0.5008 - val_accuracy: 0.7907\n",
            "Epoch 79/100\n",
            "22/22 [==============================] - 0s 3ms/step - loss: 0.1855 - accuracy: 0.9336 - val_loss: 0.5030 - val_accuracy: 0.7907\n",
            "Epoch 80/100\n",
            "22/22 [==============================] - 0s 4ms/step - loss: 0.2542 - accuracy: 0.8863 - val_loss: 0.5037 - val_accuracy: 0.7907\n",
            "Epoch 81/100\n",
            "22/22 [==============================] - 0s 4ms/step - loss: 0.2105 - accuracy: 0.9086 - val_loss: 0.5051 - val_accuracy: 0.7907\n",
            "Epoch 82/100\n",
            "22/22 [==============================] - 0s 4ms/step - loss: 0.1440 - accuracy: 0.9500 - val_loss: 0.5096 - val_accuracy: 0.7907\n",
            "Epoch 83/100\n",
            "22/22 [==============================] - 0s 4ms/step - loss: 0.2128 - accuracy: 0.9102 - val_loss: 0.4939 - val_accuracy: 0.7674\n",
            "Epoch 84/100\n",
            "22/22 [==============================] - 0s 4ms/step - loss: 0.2432 - accuracy: 0.8677 - val_loss: 0.4986 - val_accuracy: 0.7674\n",
            "Epoch 85/100\n",
            "22/22 [==============================] - 0s 4ms/step - loss: 0.2432 - accuracy: 0.8809 - val_loss: 0.5024 - val_accuracy: 0.7674\n",
            "Epoch 86/100\n",
            "22/22 [==============================] - 0s 4ms/step - loss: 0.1925 - accuracy: 0.9187 - val_loss: 0.5030 - val_accuracy: 0.7674\n",
            "Epoch 87/100\n",
            "22/22 [==============================] - 0s 4ms/step - loss: 0.1755 - accuracy: 0.9211 - val_loss: 0.5057 - val_accuracy: 0.7674\n",
            "Epoch 88/100\n",
            "22/22 [==============================] - 0s 4ms/step - loss: 0.2191 - accuracy: 0.9029 - val_loss: 0.4933 - val_accuracy: 0.7674\n",
            "Epoch 89/100\n",
            "22/22 [==============================] - 0s 4ms/step - loss: 0.2100 - accuracy: 0.9077 - val_loss: 0.4976 - val_accuracy: 0.7674\n",
            "Epoch 90/100\n",
            "22/22 [==============================] - 0s 3ms/step - loss: 0.2432 - accuracy: 0.8497 - val_loss: 0.5005 - val_accuracy: 0.7674\n",
            "Epoch 91/100\n",
            "22/22 [==============================] - 0s 4ms/step - loss: 0.1824 - accuracy: 0.9136 - val_loss: 0.5122 - val_accuracy: 0.7674\n",
            "Epoch 92/100\n",
            "22/22 [==============================] - 0s 4ms/step - loss: 0.1989 - accuracy: 0.9146 - val_loss: 0.5157 - val_accuracy: 0.7674\n",
            "Epoch 93/100\n",
            "22/22 [==============================] - 0s 4ms/step - loss: 0.2160 - accuracy: 0.9007 - val_loss: 0.5188 - val_accuracy: 0.7674\n",
            "Epoch 94/100\n",
            "22/22 [==============================] - 0s 4ms/step - loss: 0.1650 - accuracy: 0.9251 - val_loss: 0.5246 - val_accuracy: 0.7674\n",
            "Epoch 95/100\n",
            "22/22 [==============================] - 0s 4ms/step - loss: 0.1951 - accuracy: 0.9177 - val_loss: 0.5281 - val_accuracy: 0.7674\n",
            "Epoch 96/100\n",
            "22/22 [==============================] - 0s 4ms/step - loss: 0.1845 - accuracy: 0.9227 - val_loss: 0.5348 - val_accuracy: 0.7674\n",
            "Epoch 97/100\n",
            "22/22 [==============================] - 0s 4ms/step - loss: 0.2026 - accuracy: 0.9038 - val_loss: 0.5444 - val_accuracy: 0.7907\n",
            "Epoch 98/100\n",
            "22/22 [==============================] - 0s 4ms/step - loss: 0.1576 - accuracy: 0.9584 - val_loss: 0.5404 - val_accuracy: 0.7907\n",
            "Epoch 99/100\n",
            "22/22 [==============================] - 0s 4ms/step - loss: 0.1857 - accuracy: 0.9390 - val_loss: 0.5345 - val_accuracy: 0.7674\n",
            "Epoch 100/100\n",
            "22/22 [==============================] - 0s 4ms/step - loss: 0.1661 - accuracy: 0.9362 - val_loss: 0.5435 - val_accuracy: 0.7674\n"
          ],
          "name": "stdout"
        }
      ]
    },
    {
      "cell_type": "code",
      "metadata": {
        "colab": {
          "base_uri": "https://localhost:8080/"
        },
        "id": "5BL8CM2WLgOF",
        "outputId": "0c1c60de-575c-49ae-d3d4-1613cbd7bde1"
      },
      "source": [
        "print(classifier.summary())"
      ],
      "execution_count": 17,
      "outputs": [
        {
          "output_type": "stream",
          "text": [
            "Model: \"sequential\"\n",
            "_________________________________________________________________\n",
            "Layer (type)                 Output Shape              Param #   \n",
            "=================================================================\n",
            "dense (Dense)                (None, 15)                345       \n",
            "_________________________________________________________________\n",
            "dense_1 (Dense)              (None, 10)                160       \n",
            "_________________________________________________________________\n",
            "dense_2 (Dense)              (None, 1)                 11        \n",
            "=================================================================\n",
            "Total params: 516\n",
            "Trainable params: 516\n",
            "Non-trainable params: 0\n",
            "_________________________________________________________________\n",
            "None\n"
          ],
          "name": "stdout"
        }
      ]
    },
    {
      "cell_type": "code",
      "metadata": {
        "id": "cye0fR-DLhox"
      },
      "source": [
        "#############################\n",
        "# Ve modelimizi test edelim #\n",
        "#############################"
      ],
      "execution_count": 18,
      "outputs": []
    },
    {
      "cell_type": "code",
      "metadata": {
        "colab": {
          "base_uri": "https://localhost:8080/"
        },
        "id": "3V-bFjp_LlAO",
        "outputId": "9b0f413f-07b4-41d1-f5de-829d3801a970"
      },
      "source": [
        "#Egitim veri setinin basarimi\n",
        "pred_train = classifier.predict(X_train)\n",
        "scores_train_pred = classifier.evaluate(X_train, y_train, verbose=0)\n",
        "print('Accuracy on training data: {}% \\n Error on training data: {}'.format(scores_train_pred[1], 1 - scores_train_pred[1]))"
      ],
      "execution_count": 19,
      "outputs": [
        {
          "output_type": "stream",
          "text": [
            "Accuracy on training data: 0.8915094137191772% \n",
            " Error on training data: 0.10849058628082275\n"
          ],
          "name": "stdout"
        }
      ]
    },
    {
      "cell_type": "code",
      "metadata": {
        "colab": {
          "base_uri": "https://localhost:8080/"
        },
        "id": "ltOdsvy-Lm79",
        "outputId": "3c4bc32d-5974-4688-d06f-302d1955a27f"
      },
      "source": [
        "#Test veri setinin basarimi\n",
        "y_pred = classifier.predict(X_test)\n",
        "print(y_pred)"
      ],
      "execution_count": 20,
      "outputs": [
        {
          "output_type": "stream",
          "text": [
            "[[4.0848404e-02]\n",
            " [5.0531721e-01]\n",
            " [8.7457812e-01]\n",
            " [1.6941756e-02]\n",
            " [8.0256677e-01]\n",
            " [9.9762911e-01]\n",
            " [6.6745526e-01]\n",
            " [4.7127306e-03]\n",
            " [5.7258904e-03]\n",
            " [3.1296313e-01]\n",
            " [9.1565871e-01]\n",
            " [2.3490071e-02]\n",
            " [9.5111930e-01]\n",
            " [9.7685158e-03]\n",
            " [9.8233396e-01]\n",
            " [9.9435794e-01]\n",
            " [9.9883825e-01]\n",
            " [1.4785826e-02]\n",
            " [4.0299296e-03]\n",
            " [1.6714036e-03]\n",
            " [2.1025807e-01]\n",
            " [9.5859855e-02]\n",
            " [7.7147192e-01]\n",
            " [7.9765481e-01]\n",
            " [9.5452881e-01]\n",
            " [9.8238075e-01]\n",
            " [8.5750723e-01]\n",
            " [7.6634455e-01]\n",
            " [2.8008968e-02]\n",
            " [8.5627902e-01]\n",
            " [1.7399132e-02]\n",
            " [9.9290907e-03]\n",
            " [8.2927644e-03]\n",
            " [1.5342116e-02]\n",
            " [9.3167746e-01]\n",
            " [1.4894694e-02]\n",
            " [9.6196449e-01]\n",
            " [9.4593233e-01]\n",
            " [2.7010521e-01]\n",
            " [9.0712953e-01]\n",
            " [9.9860823e-01]\n",
            " [8.2000935e-01]\n",
            " [8.0785215e-01]\n",
            " [8.6344266e-01]\n",
            " [9.1741908e-01]\n",
            " [1.0948101e-01]\n",
            " [6.6342741e-02]\n",
            " [9.9211264e-01]\n",
            " [3.1805247e-02]\n",
            " [4.2032599e-03]\n",
            " [8.8015556e-02]\n",
            " [8.4045529e-03]\n",
            " [9.5697618e-01]\n",
            " [9.2700493e-01]\n",
            " [1.9202110e-01]\n",
            " [1.5139282e-03]\n",
            " [1.9102275e-02]\n",
            " [9.9216425e-01]\n",
            " [7.0130229e-03]\n",
            " [1.7895699e-03]\n",
            " [2.2754371e-02]\n",
            " [9.6765137e-01]\n",
            " [1.3940561e-01]\n",
            " [8.2093179e-01]\n",
            " [9.2886358e-01]\n",
            " [4.1415393e-02]\n",
            " [6.4275753e-01]\n",
            " [5.7625812e-01]\n",
            " [9.4780916e-01]\n",
            " [9.8262620e-01]\n",
            " [9.2510337e-01]\n",
            " [9.9406964e-01]\n",
            " [5.7768577e-01]\n",
            " [9.2857003e-01]\n",
            " [5.7427227e-02]\n",
            " [9.3756413e-01]\n",
            " [4.1880268e-01]\n",
            " [4.9002090e-01]\n",
            " [8.7105662e-02]\n",
            " [3.4971023e-01]\n",
            " [9.9963814e-01]\n",
            " [1.2356132e-02]\n",
            " [8.4704554e-01]\n",
            " [2.5312150e-01]\n",
            " [7.9411507e-01]\n",
            " [6.0553849e-02]\n",
            " [5.7759881e-04]\n",
            " [8.2634360e-01]\n",
            " [6.0470504e-01]\n",
            " [7.3554635e-02]\n",
            " [4.0036875e-01]]\n"
          ],
          "name": "stdout"
        }
      ]
    },
    {
      "cell_type": "code",
      "metadata": {
        "colab": {
          "base_uri": "https://localhost:8080/"
        },
        "id": "X1cgf6nhLyid",
        "outputId": "38311295-1400-4375-da55-e76bd8f5a9c0"
      },
      "source": [
        "scores_y_pred = classifier.evaluate(X_test, y_test, verbose=0)\n",
        "print('Accuracy on test data: {}% \\n Error on test data: {}'.format(scores_y_pred[1], 1 - scores_y_pred[1]))"
      ],
      "execution_count": 21,
      "outputs": [
        {
          "output_type": "stream",
          "text": [
            "Accuracy on test data: 0.8131868243217468% \n",
            " Error on test data: 0.18681317567825317\n"
          ],
          "name": "stdout"
        }
      ]
    },
    {
      "cell_type": "code",
      "metadata": {
        "colab": {
          "base_uri": "https://localhost:8080/"
        },
        "id": "SfacMl6eLoqD",
        "outputId": "14d0ea3a-9279-40bb-dce6-f354478abf70"
      },
      "source": [
        "#Orneklerin bulunma olasiliklarini >  0.5 ise 1, degilse 0 olarak kodluyoruz\n",
        "#y_pred = y_pred.round().astype(int)\n",
        "y_pred = (y_pred >= 0.5).astype(int)\n",
        "print(y_pred)"
      ],
      "execution_count": 22,
      "outputs": [
        {
          "output_type": "stream",
          "text": [
            "[[0]\n",
            " [1]\n",
            " [1]\n",
            " [0]\n",
            " [1]\n",
            " [1]\n",
            " [1]\n",
            " [0]\n",
            " [0]\n",
            " [0]\n",
            " [1]\n",
            " [0]\n",
            " [1]\n",
            " [0]\n",
            " [1]\n",
            " [1]\n",
            " [1]\n",
            " [0]\n",
            " [0]\n",
            " [0]\n",
            " [0]\n",
            " [0]\n",
            " [1]\n",
            " [1]\n",
            " [1]\n",
            " [1]\n",
            " [1]\n",
            " [1]\n",
            " [0]\n",
            " [1]\n",
            " [0]\n",
            " [0]\n",
            " [0]\n",
            " [0]\n",
            " [1]\n",
            " [0]\n",
            " [1]\n",
            " [1]\n",
            " [0]\n",
            " [1]\n",
            " [1]\n",
            " [1]\n",
            " [1]\n",
            " [1]\n",
            " [1]\n",
            " [0]\n",
            " [0]\n",
            " [1]\n",
            " [0]\n",
            " [0]\n",
            " [0]\n",
            " [0]\n",
            " [1]\n",
            " [1]\n",
            " [0]\n",
            " [0]\n",
            " [0]\n",
            " [1]\n",
            " [0]\n",
            " [0]\n",
            " [0]\n",
            " [1]\n",
            " [0]\n",
            " [1]\n",
            " [1]\n",
            " [0]\n",
            " [1]\n",
            " [1]\n",
            " [1]\n",
            " [1]\n",
            " [1]\n",
            " [1]\n",
            " [1]\n",
            " [1]\n",
            " [0]\n",
            " [1]\n",
            " [0]\n",
            " [0]\n",
            " [0]\n",
            " [0]\n",
            " [1]\n",
            " [0]\n",
            " [1]\n",
            " [0]\n",
            " [1]\n",
            " [0]\n",
            " [0]\n",
            " [1]\n",
            " [1]\n",
            " [0]\n",
            " [0]]\n"
          ],
          "name": "stdout"
        }
      ]
    },
    {
      "cell_type": "code",
      "metadata": {
        "colab": {
          "base_uri": "https://localhost:8080/"
        },
        "id": "ferdcRxbLtAI",
        "outputId": "f44acf12-1615-4ea3-d78d-4122747d6ca4"
      },
      "source": [
        "conf_matrix = confusion_matrix(y_test, y_pred) \n",
        "print(conf_matrix)"
      ],
      "execution_count": 23,
      "outputs": [
        {
          "output_type": "stream",
          "text": [
            "[[34  7]\n",
            " [10 40]]\n"
          ],
          "name": "stdout"
        }
      ]
    },
    {
      "cell_type": "code",
      "metadata": {
        "colab": {
          "base_uri": "https://localhost:8080/"
        },
        "id": "vXuQkPQ9LutF",
        "outputId": "9a6ff095-d899-44cf-b810-3ac7fa8d0bbf"
      },
      "source": [
        "from sklearn.metrics import classification_report, accuracy_score\n",
        "print(classification_report(y_test, y_pred))"
      ],
      "execution_count": 24,
      "outputs": [
        {
          "output_type": "stream",
          "text": [
            "              precision    recall  f1-score   support\n",
            "\n",
            "           0       0.77      0.83      0.80        41\n",
            "           1       0.85      0.80      0.82        50\n",
            "\n",
            "    accuracy                           0.81        91\n",
            "   macro avg       0.81      0.81      0.81        91\n",
            "weighted avg       0.82      0.81      0.81        91\n",
            "\n"
          ],
          "name": "stdout"
        }
      ]
    },
    {
      "cell_type": "code",
      "metadata": {
        "colab": {
          "base_uri": "https://localhost:8080/"
        },
        "id": "ZVF-d-tWLwWE",
        "outputId": "acc4b6d3-f80b-41ec-d7f0-0cbcf1106088"
      },
      "source": [
        "print(accuracy_score(y_test, y_pred))"
      ],
      "execution_count": 25,
      "outputs": [
        {
          "output_type": "stream",
          "text": [
            "0.8131868131868132\n"
          ],
          "name": "stdout"
        }
      ]
    },
    {
      "cell_type": "code",
      "metadata": {
        "colab": {
          "base_uri": "https://localhost:8080/",
          "height": 295
        },
        "id": "BoV7b0uUL3to",
        "outputId": "12b16bb7-fd5b-4741-90be-8223f2cbc29a"
      },
      "source": [
        "# epoch iterasyonuna gore egitim ve test veri setlerinin dogruluk grafigi\n",
        "import matplotlib.pyplot as plt\n",
        "plt.plot(output.history['accuracy'])\n",
        "plt.plot(output.history['val_accuracy'])\n",
        "plt.title('Model Accuracy')\n",
        "plt.ylabel('Accuracy')\n",
        "plt.xlabel('Epoch')\n",
        "plt.legend(['Training', 'Validation'], loc='lower right')\n",
        "#plt.savefig('Accuracy.png',dpi=100)\n",
        "plt.show()"
      ],
      "execution_count": 26,
      "outputs": [
        {
          "output_type": "display_data",
          "data": {
            "image/png": "[encoded data removed]",
            "text/plain": [
              "<Figure size 432x288 with 1 Axes>"
            ]
          },
          "metadata": {
            "tags": [],
            "needs_background": "light"
          }
        }
      ]
    }
  ]
}